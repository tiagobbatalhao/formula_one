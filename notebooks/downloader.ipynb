{
 "cells": [
  {
   "cell_type": "markdown",
   "metadata": {},
   "source": [
    "# Downloading data from fastf1\n",
    "\n",
    "This notebook contains methods to download data from Formula One races using the \"fastf1\" package."
   ]
  },
  {
   "cell_type": "code",
   "execution_count": 53,
   "metadata": {},
   "outputs": [],
   "source": [
    "from pathlib import Path\n",
    "import pandas as pd\n",
    "import fastf1\n",
    "from warnings import filterwarnings\n",
    "filterwarnings(\"ignore\")"
   ]
  },
  {
   "cell_type": "markdown",
   "metadata": {},
   "source": [
    "## Auxiliary methods\n",
    "\n"
   ]
  },
  {
   "cell_type": "code",
   "execution_count": 54,
   "metadata": {},
   "outputs": [],
   "source": [
    "def add_session_information(df, session, **kwargs):\n",
    "    for key, val in kwargs.items():\n",
    "        df[key] = val\n",
    "    df[\"session_start_time\"] = session.session_start_time\n",
    "    df[\"t0_date\"] = session.t0_date\n",
    "    return df"
   ]
  },
  {
   "cell_type": "markdown",
   "metadata": {},
   "source": [
    "## Methods from fastf1\n",
    "\n",
    "The following subsections encapsulate methods to get specific types of information."
   ]
  },
  {
   "cell_type": "markdown",
   "metadata": {},
   "source": [
    "### Year schedule\n",
    "\n",
    "This method will fetch the schedule of races for a given season."
   ]
  },
  {
   "cell_type": "code",
   "execution_count": 55,
   "metadata": {},
   "outputs": [],
   "source": [
    "def fetch_year_schedule(year):\n",
    "    schedule = fastf1.get_event_schedule(year)\n",
    "    schedule[\"year\"] = year\n",
    "    schedule[\"is_testing\"] = schedule.is_testing()\n",
    "    return schedule"
   ]
  },
  {
   "cell_type": "markdown",
   "metadata": {},
   "source": [
    "### Session"
   ]
  },
  {
   "cell_type": "code",
   "execution_count": 56,
   "metadata": {},
   "outputs": [],
   "source": [
    "def fetch_session(year, round_number, session_type):\n",
    "    if round_number == 0:\n",
    "        session = fastf1.get_testing_session(year, 1, session_type)\n",
    "    elif round_number > 0:\n",
    "        session = fastf1.get_session(year, round_number, session_type)\n",
    "    return session"
   ]
  },
  {
   "cell_type": "markdown",
   "metadata": {},
   "source": [
    "### Drivers that participated in a session"
   ]
  },
  {
   "cell_type": "code",
   "execution_count": 57,
   "metadata": {},
   "outputs": [],
   "source": [
    "def fetch_session_drivers(year, round_number, session_type):\n",
    "    session = fetch_session(year, round_number, session_type)\n",
    "    session.load()\n",
    "    info = [pd.DataFrame(session.get_driver(dr)) for dr in session.drivers]\n",
    "    df = pd.concat(info, axis=1).T\n",
    "    df = df.reset_index()\n",
    "    df = add_session_information(\n",
    "        df, session, year=year, round_number=round_number, session_type=session_type\n",
    "    )\n",
    "    return df"
   ]
  },
  {
   "cell_type": "markdown",
   "metadata": {},
   "source": [
    "### Laps driven in a session"
   ]
  },
  {
   "cell_type": "code",
   "execution_count": 58,
   "metadata": {},
   "outputs": [],
   "source": [
    "def fetch_session_laps(year, round_number, session_type):\n",
    "    session = fetch_session(year, round_number, session_type)\n",
    "    session.load()\n",
    "    df = pd.DataFrame(session.laps)\n",
    "    df = df.reset_index()\n",
    "    df = add_session_information(\n",
    "        df, session, year=year, round_number=round_number, session_type=session_type\n",
    "    )\n",
    "    return df"
   ]
  },
  {
   "cell_type": "markdown",
   "metadata": {},
   "source": [
    "### Weather in a session"
   ]
  },
  {
   "cell_type": "code",
   "execution_count": 59,
   "metadata": {},
   "outputs": [],
   "source": [
    "def fetch_session_weather(year, round_number, session_type):\n",
    "    session = fetch_session(year, round_number, session_type)\n",
    "    session.load()\n",
    "    df = pd.DataFrame(session.weather_data)\n",
    "    df = df.reset_index()\n",
    "    df = add_session_information(\n",
    "        df, session, year=year, round_number=round_number, session_type=session_type\n",
    "    )\n",
    "    return df"
   ]
  },
  {
   "cell_type": "markdown",
   "metadata": {},
   "source": [
    "### Race control messages in a session"
   ]
  },
  {
   "cell_type": "code",
   "execution_count": 60,
   "metadata": {},
   "outputs": [],
   "source": [
    "def fetch_session_race_control(year, round_number, session_type):\n",
    "    session = fetch_session(year, round_number, session_type)\n",
    "    session.load()\n",
    "    df = pd.DataFrame(session.race_control_messages)\n",
    "    df = df.reset_index()\n",
    "    df = add_session_information(\n",
    "        df, session, year=year, round_number=round_number, session_type=session_type\n",
    "    )\n",
    "    return df"
   ]
  },
  {
   "cell_type": "markdown",
   "metadata": {},
   "source": [
    "### Results of a session"
   ]
  },
  {
   "cell_type": "code",
   "execution_count": 61,
   "metadata": {},
   "outputs": [],
   "source": [
    "def fetch_session_results(year, round_number, session_type):\n",
    "    session = fetch_session(year, round_number, session_type)\n",
    "    session.load()\n",
    "    df = pd.DataFrame(session.results)\n",
    "    df = df.reset_index()\n",
    "    df = add_session_information(\n",
    "        df, session, year=year, round_number=round_number, session_type=session_type\n",
    "    )\n",
    "    return df"
   ]
  },
  {
   "cell_type": "markdown",
   "metadata": {},
   "source": [
    "### Status of a session"
   ]
  },
  {
   "cell_type": "code",
   "execution_count": 62,
   "metadata": {},
   "outputs": [],
   "source": [
    "def fetch_session_status(year, round_number, session_type):\n",
    "    session = fetch_session(year, round_number, session_type)\n",
    "    session.load()\n",
    "    df = pd.DataFrame(session.session_status)\n",
    "    df = df.reset_index()\n",
    "    df = add_session_information(\n",
    "        df, session, year=year, round_number=round_number, session_type=session_type\n",
    "    )\n",
    "    return df"
   ]
  },
  {
   "cell_type": "markdown",
   "metadata": {},
   "source": [
    "### Telemetry of a session"
   ]
  },
  {
   "cell_type": "code",
   "execution_count": 63,
   "metadata": {},
   "outputs": [],
   "source": [
    "def fetch_session_telemetry(year, round_number, session_type):\n",
    "    def _get_by_driver(session, driver_number):\n",
    "        dfls = []\n",
    "        for _, lap in session.laps.pick_driver(driver_number).iterlaps():\n",
    "            df = lap.get_car_data()\n",
    "            df[\"LapNumber\"] = lap[\"LapNumber\"]\n",
    "            dfls.append(df)\n",
    "        if len(dfls) > 0:\n",
    "            df = pd.concat(dfls).sort_values(by=[\"Date\"])\n",
    "            return df\n",
    "\n",
    "    session = fetch_session(year, round_number, session_type)\n",
    "    session.load()\n",
    "    dfs = []\n",
    "    for dr in session.drivers:\n",
    "        try:\n",
    "            this = _get_by_driver(session, dr)\n",
    "            if this is None:\n",
    "                continue\n",
    "            this = this.assign(DriverNumber=dr)\n",
    "        except (KeyError, ValueError) as e:\n",
    "            continue\n",
    "        dfs.append(this)\n",
    "    df = pd.concat(dfs)\n",
    "    df = df.reset_index()\n",
    "    df = add_session_information(\n",
    "        df, session, year=year, round_number=round_number, session_type=session_type\n",
    "    )\n",
    "    return df"
   ]
  },
  {
   "cell_type": "markdown",
   "metadata": {},
   "source": [
    "### Position data (GPS) for a session"
   ]
  },
  {
   "cell_type": "code",
   "execution_count": 64,
   "metadata": {},
   "outputs": [],
   "source": [
    "def fetch_session_positions(year, round_number, session_type):\n",
    "    def _get_by_driver(session, driver_number):\n",
    "        dfls = []\n",
    "        for _, lap in session.laps.pick_driver(driver_number).iterlaps():\n",
    "            df = lap.get_pos_data()\n",
    "            df[\"LapNumber\"] = lap[\"LapNumber\"]\n",
    "            dfls.append(df)\n",
    "        if len(dfls) > 0:\n",
    "            df = pd.concat(dfls).sort_values(by=[\"Date\"])\n",
    "            return df\n",
    "\n",
    "    session = fetch_session(year, round_number, session_type)\n",
    "    session.load()\n",
    "    dfs = []\n",
    "    for dr in session.drivers:\n",
    "        try:\n",
    "            this = _get_by_driver(session, dr)\n",
    "            if this is None:\n",
    "                continue\n",
    "            this = this.assign(DriverNumber=dr)\n",
    "        except (KeyError, ValueError) as e:\n",
    "            continue\n",
    "        dfs.append(this)\n",
    "    df = pd.concat(dfs)\n",
    "    df = df.reset_index()\n",
    "    df = add_session_information(\n",
    "        df, session, year=year, round_number=round_number, session_type=session_type\n",
    "    )\n",
    "    return df"
   ]
  },
  {
   "cell_type": "markdown",
   "metadata": {},
   "source": [
    "## Run methods\n",
    "\n",
    "The following subsections encapsulate methods that save information locally."
   ]
  },
  {
   "cell_type": "markdown",
   "metadata": {},
   "source": [
    "### Year schedule"
   ]
  },
  {
   "cell_type": "code",
   "execution_count": 65,
   "metadata": {},
   "outputs": [],
   "source": [
    "def download_year_schedule(year, parent_folder, force=False):\n",
    "    downloaded = []\n",
    "    folder = Path(parent_folder)\n",
    "    folder.mkdir(parents=True, exist_ok=True)\n",
    "    path = folder / (f\"{year:04d}_schedule.parquet\")\n",
    "    if force or (not path.exists()):\n",
    "        df = fetch_year_schedule(year=year)\n",
    "        df.to_parquet(path)\n",
    "        downloaded.append(path)\n",
    "    return downloaded"
   ]
  },
  {
   "cell_type": "markdown",
   "metadata": {},
   "source": [
    "### Single session\n",
    "\n",
    "This will download and save all information about a given session."
   ]
  },
  {
   "cell_type": "code",
   "execution_count": 66,
   "metadata": {},
   "outputs": [],
   "source": [
    "def download_single_session(\n",
    "    year, round_number, session_type, parent_folder, force=False\n",
    "):\n",
    "    downloaded = []\n",
    "    folder = Path(parent_folder)\n",
    "    folder.mkdir(parents=True, exist_ok=True)\n",
    "    id_string = f\"{year:04d}{round_number:02d}{session_type}\"\n",
    "    kwargs = dict(year=year, round_number=round_number, session_type=session_type)\n",
    "\n",
    "    plan = [\n",
    "        {\"suffix\": \"drivers\", \"method\": fetch_session_drivers},\n",
    "        {\"suffix\": \"laps\", \"method\": fetch_session_laps},\n",
    "        {\"suffix\": \"weather\", \"method\": fetch_session_weather},\n",
    "        {\"suffix\": \"race_control\", \"method\": fetch_session_race_control},\n",
    "        {\"suffix\": \"results\", \"method\": fetch_session_results},\n",
    "        {\"suffix\": \"status\", \"method\": fetch_session_status},\n",
    "        {\"suffix\": \"telemetry\", \"method\": fetch_session_telemetry},\n",
    "        {\"suffix\": \"positions\", \"method\": fetch_session_positions},\n",
    "    ]\n",
    "    for plan_ in plan:\n",
    "        path = folder / (f\"{id_string}_{plan_['suffix']}.parquet\")\n",
    "        if force or (not path.exists()):\n",
    "            df = plan_[\"method\"](**kwargs)\n",
    "            df.to_parquet(path)\n",
    "            downloaded.append(path)\n",
    "    return downloaded"
   ]
  },
  {
   "cell_type": "markdown",
   "metadata": {},
   "source": [
    "### Single weekend\n",
    "\n",
    "This will download and save all information about all sessions in a given weekend."
   ]
  },
  {
   "cell_type": "code",
   "execution_count": 67,
   "metadata": {},
   "outputs": [],
   "source": [
    "def download_single_weekend(year, round_number, parent_folder, force=False):\n",
    "    downloaded = []\n",
    "    session_types = [\"FP1\", \"FP2\", \"FP3\", \"Q\", \"R\", \"S\", \"SS\", \"SQ\"]\n",
    "    for session_type in session_types:\n",
    "        try:\n",
    "            new = download_single_session(\n",
    "                year=year,\n",
    "                round_number=round_number,\n",
    "                session_type=session_type,\n",
    "                parent_folder=parent_folder,\n",
    "                force=force,\n",
    "            )\n",
    "        except ValueError as e:\n",
    "            print(f\"Session not found: {year:04d}{round_number:02d}{session_type}\")\n",
    "            print(e)\n",
    "            new = []\n",
    "        except fastf1.core.DataNotLoadedError as e:\n",
    "            print(f\"Session not loaded: {year:04d}{round_number:02d}{session_type}\")\n",
    "            print(e)\n",
    "            new = []\n",
    "        downloaded += new\n",
    "    return downloaded"
   ]
  },
  {
   "cell_type": "markdown",
   "metadata": {},
   "source": [
    "## Examples\n",
    "\n",
    "Some code snippets to run this data."
   ]
  },
  {
   "cell_type": "code",
   "execution_count": 68,
   "metadata": {},
   "outputs": [],
   "source": [
    "DOWNLOADED = []\n",
    "SAVE_FOLDER = \"../data/raw/\"\n",
    "CACHE_FOLDER = \"../.cache/\"\n"
   ]
  },
  {
   "cell_type": "code",
   "execution_count": 69,
   "metadata": {},
   "outputs": [],
   "source": [
    "path_cache = Path(CACHE_FOLDER)\n",
    "path_cache.mkdir(parents=True, exist_ok=True)\n",
    "fastf1.Cache.enable_cache(path_cache)"
   ]
  },
  {
   "cell_type": "code",
   "execution_count": 70,
   "metadata": {},
   "outputs": [],
   "source": [
    "for year in range(2024, 1949, -1):\n",
    "    DOWNLOADED += download_year_schedule(year=year, parent_folder=SAVE_FOLDER)"
   ]
  },
  {
   "cell_type": "code",
   "execution_count": 79,
   "metadata": {},
   "outputs": [
    {
     "name": "stderr",
     "output_type": "stream",
     "text": [
      "core           INFO \tLoading data for Pre-Season Test 1 - Practice 1 [v2.3.0]\n"
     ]
    },
    {
     "name": "stderr",
     "output_type": "stream",
     "text": [
      "core        WARNING \tFailed to load driver list and session results!\n",
      "core        WARNING \tCannot load laps, telemetry, weather, and message data because the relevant API is not supported for this session.\n",
      "core           INFO \tFinished loading data for 0 drivers: []\n",
      "core           INFO \tLoading data for Pre-Season Test 1 - Practice 2 [v2.3.0]\n",
      "core        WARNING \tFailed to load driver list and session results!\n",
      "core        WARNING \tCannot load laps, telemetry, weather, and message data because the relevant API is not supported for this session.\n",
      "core           INFO \tFinished loading data for 0 drivers: []\n",
      "core           INFO \tLoading data for Pre-Season Test 1 - Practice 3 [v2.3.0]\n",
      "core        WARNING \tFailed to load driver list and session results!\n",
      "core        WARNING \tCannot load laps, telemetry, weather, and message data because the relevant API is not supported for this session.\n",
      "core           INFO \tFinished loading data for 0 drivers: []\n",
      "core           INFO \tLoading data for Pre-Season Test - Practice 1 [v2.3.0]\n",
      "core        WARNING \tFailed to load driver list and session results!\n",
      "core        WARNING \tCannot load laps, telemetry, weather, and message data because the relevant API is not supported for this session.\n",
      "core           INFO \tFinished loading data for 0 drivers: []\n",
      "core           INFO \tLoading data for Pre-Season Test - Practice 2 [v2.3.0]\n",
      "core        WARNING \tFailed to load driver list and session results!\n",
      "core        WARNING \tCannot load laps, telemetry, weather, and message data because the relevant API is not supported for this session.\n",
      "core           INFO \tFinished loading data for 0 drivers: []\n",
      "core           INFO \tLoading data for Pre-Season Test - Practice 3 [v2.3.0]\n",
      "core        WARNING \tFailed to load driver list and session results!\n",
      "core        WARNING \tCannot load laps, telemetry, weather, and message data because the relevant API is not supported for this session.\n",
      "core           INFO \tFinished loading data for 0 drivers: []\n"
     ]
    },
    {
     "name": "stdout",
     "output_type": "stream",
     "text": [
      "Session not found: 202000FP1\n",
      "No objects to concatenate\n",
      "Session not found: 202000FP2\n",
      "No objects to concatenate\n",
      "Session not found: 202000FP3\n",
      "No objects to concatenate\n",
      "Session not found: 202000Q\n",
      "Session type 'Q' does not exist for this event\n",
      "Session not found: 202000R\n",
      "Session type 'R' does not exist for this event\n",
      "Session not found: 202000S\n",
      "Session type 'S' does not exist for this event\n",
      "Session not found: 202000SS\n",
      "Invalid session type 'SS'\n",
      "Session not found: 202000SQ\n",
      "Session type 'SQ' does not exist for this event\n",
      "Session not found: 202100FP1\n",
      "No objects to concatenate\n",
      "Session not found: 202100FP2\n",
      "No objects to concatenate\n",
      "Session not found: 202100FP3\n",
      "No objects to concatenate\n"
     ]
    },
    {
     "name": "stderr",
     "output_type": "stream",
     "text": [
      "core           INFO \tLoading data for Pre-Season Track Session - Practice 1 [v2.3.0]\n",
      "core        WARNING \tFailed to load driver list and session results!\n",
      "core        WARNING \tCannot load laps, telemetry, weather, and message data because the relevant API is not supported for this session.\n",
      "core           INFO \tFinished loading data for 0 drivers: []\n",
      "core           INFO \tLoading data for Pre-Season Track Session - Practice 2 [v2.3.0]\n",
      "core        WARNING \tFailed to load driver list and session results!\n",
      "core        WARNING \tCannot load laps, telemetry, weather, and message data because the relevant API is not supported for this session.\n",
      "core           INFO \tFinished loading data for 0 drivers: []\n",
      "core           INFO \tLoading data for Pre-Season Track Session - Practice 3 [v2.3.0]\n",
      "core        WARNING \tFailed to load driver list and session results!\n",
      "core        WARNING \tCannot load laps, telemetry, weather, and message data because the relevant API is not supported for this session.\n",
      "core           INFO \tFinished loading data for 0 drivers: []\n"
     ]
    },
    {
     "name": "stdout",
     "output_type": "stream",
     "text": [
      "Session not found: 202100Q\n",
      "Session type 'Q' does not exist for this event\n",
      "Session not found: 202100R\n",
      "Session type 'R' does not exist for this event\n",
      "Session not found: 202100S\n",
      "Session type 'S' does not exist for this event\n",
      "Session not found: 202100SS\n",
      "Invalid session type 'SS'\n",
      "Session not found: 202100SQ\n",
      "Session type 'SQ' does not exist for this event\n",
      "Session not found: 202200FP1\n",
      "No objects to concatenate\n",
      "Session not found: 202200FP2\n",
      "No objects to concatenate\n",
      "Session not found: 202200FP3\n",
      "No objects to concatenate\n",
      "Session not found: 202200Q\n",
      "Session type 'Q' does not exist for this event\n",
      "Session not found: 202200R\n",
      "Session type 'R' does not exist for this event\n",
      "Session not found: 202200S\n",
      "Session type 'S' does not exist for this event\n",
      "Session not found: 202200SS\n",
      "Invalid session type 'SS'\n",
      "Session not found: 202200SQ\n",
      "Session type 'SQ' does not exist for this event\n",
      "Session not found: 202300Q\n",
      "Session type 'Q' does not exist for this event\n",
      "Session not found: 202300R\n",
      "Session type 'R' does not exist for this event\n",
      "Session not found: 202300S\n",
      "Session type 'S' does not exist for this event\n"
     ]
    },
    {
     "name": "stderr",
     "output_type": "stream",
     "text": [
      "core           INFO \tLoading data for Pre-Season Testing - Practice 2 [v2.3.0]\n",
      "api            INFO \tNo cached data found for driver_info. Loading data...\n",
      "api            INFO \tFetching driver list...\n"
     ]
    },
    {
     "name": "stdout",
     "output_type": "stream",
     "text": [
      "Session not found: 202300SS\n",
      "Invalid session type 'SS'\n",
      "Session not found: 202300SQ\n",
      "Session type 'SQ' does not exist for this event\n"
     ]
    },
    {
     "name": "stderr",
     "output_type": "stream",
     "text": [
      "core        WARNING \tFailed to load extended driver information!\n",
      "core        WARNING \tFailed to load driver list and session results!\n",
      "api            INFO \tNo cached data found for timing_data. Loading data...\n",
      "api            INFO \tFetching timing data...\n",
      "core        WARNING \tFailed to load lap data!\n",
      "api            INFO \tNo cached data found for car_data. Loading data...\n",
      "api            INFO \tFetching car data...\n",
      "core        WARNING \tFailed to load telemetry data!\n",
      "api            INFO \tNo cached data found for weather_data. Loading data...\n",
      "api            INFO \tFetching weather data...\n",
      "core        WARNING \tFailed to load weather data!\n",
      "api            INFO \tNo cached data found for race_control_messages. Loading data...\n",
      "api            INFO \tFetching race control messages...\n",
      "core        WARNING \tFailed to load Race Control message data!\n",
      "core           INFO \tFinished loading data for 0 drivers: []\n",
      "core           INFO \tLoading data for Pre-Season Testing - Practice 3 [v2.3.0]\n",
      "api            INFO \tNo cached data found for driver_info. Loading data...\n",
      "api            INFO \tFetching driver list...\n"
     ]
    },
    {
     "name": "stdout",
     "output_type": "stream",
     "text": [
      "Session not found: 202400FP2\n",
      "No objects to concatenate\n"
     ]
    },
    {
     "name": "stderr",
     "output_type": "stream",
     "text": [
      "core        WARNING \tFailed to load extended driver information!\n",
      "core        WARNING \tFailed to load driver list and session results!\n",
      "api            INFO \tNo cached data found for timing_data. Loading data...\n",
      "api            INFO \tFetching timing data...\n",
      "core        WARNING \tFailed to load lap data!\n",
      "api            INFO \tNo cached data found for car_data. Loading data...\n",
      "api            INFO \tFetching car data...\n",
      "core        WARNING \tFailed to load telemetry data!\n",
      "api            INFO \tNo cached data found for weather_data. Loading data...\n",
      "api            INFO \tFetching weather data...\n",
      "core        WARNING \tFailed to load weather data!\n",
      "api            INFO \tNo cached data found for race_control_messages. Loading data...\n",
      "api            INFO \tFetching race control messages...\n",
      "core        WARNING \tFailed to load Race Control message data!\n",
      "core           INFO \tFinished loading data for 0 drivers: []\n"
     ]
    },
    {
     "name": "stdout",
     "output_type": "stream",
     "text": [
      "Session not found: 202400FP3\n",
      "No objects to concatenate\n",
      "Session not found: 202400Q\n",
      "Session type 'Q' does not exist for this event\n",
      "Session not found: 202400R\n",
      "Session type 'R' does not exist for this event\n",
      "Session not found: 202400S\n",
      "Session type 'S' does not exist for this event\n",
      "Session not found: 202400SS\n",
      "Invalid session type 'SS'\n",
      "Session not found: 202400SQ\n",
      "Session type 'SQ' does not exist for this event\n"
     ]
    }
   ],
   "source": [
    "for year in range(2020, 2025):\n",
    "    for round_number in range(1):\n",
    "        DOWNLOADED += download_single_weekend(\n",
    "            year=year, round_number=round_number, parent_folder=SAVE_FOLDER\n",
    "        )"
   ]
  },
  {
   "cell_type": "code",
   "execution_count": 80,
   "metadata": {},
   "outputs": [
    {
     "name": "stdout",
     "output_type": "stream",
     "text": [
      "../data/raw/202300FP1_drivers.parquet\n",
      "../data/raw/202300FP1_laps.parquet\n",
      "../data/raw/202300FP1_positions.parquet\n",
      "../data/raw/202300FP1_race_control.parquet\n",
      "../data/raw/202300FP1_results.parquet\n",
      "../data/raw/202300FP1_status.parquet\n",
      "../data/raw/202300FP1_telemetry.parquet\n",
      "../data/raw/202300FP1_weather.parquet\n",
      "../data/raw/202300FP2_drivers.parquet\n",
      "../data/raw/202300FP2_laps.parquet\n",
      "../data/raw/202300FP2_positions.parquet\n",
      "../data/raw/202300FP2_race_control.parquet\n",
      "../data/raw/202300FP2_results.parquet\n",
      "../data/raw/202300FP2_status.parquet\n",
      "../data/raw/202300FP2_telemetry.parquet\n",
      "../data/raw/202300FP2_weather.parquet\n",
      "../data/raw/202300FP3_drivers.parquet\n",
      "../data/raw/202300FP3_laps.parquet\n",
      "../data/raw/202300FP3_positions.parquet\n",
      "../data/raw/202300FP3_race_control.parquet\n",
      "../data/raw/202300FP3_results.parquet\n",
      "../data/raw/202300FP3_status.parquet\n",
      "../data/raw/202300FP3_telemetry.parquet\n",
      "../data/raw/202300FP3_weather.parquet\n",
      "../data/raw/202400FP1_drivers.parquet\n",
      "../data/raw/202400FP1_laps.parquet\n",
      "../data/raw/202400FP1_positions.parquet\n",
      "../data/raw/202400FP1_race_control.parquet\n",
      "../data/raw/202400FP1_results.parquet\n",
      "../data/raw/202400FP1_status.parquet\n",
      "../data/raw/202400FP1_telemetry.parquet\n",
      "../data/raw/202400FP1_weather.parquet\n"
     ]
    }
   ],
   "source": [
    "for fl in sorted(DOWNLOADED):\n",
    "    print(fl)"
   ]
  },
  {
   "cell_type": "code",
   "execution_count": null,
   "metadata": {},
   "outputs": [],
   "source": []
  }
 ],
 "metadata": {
  "kernelspec": {
   "display_name": "DataScience",
   "language": "python",
   "name": "python3"
  },
  "language_info": {
   "codemirror_mode": {
    "name": "ipython",
    "version": 3
   },
   "file_extension": ".py",
   "mimetype": "text/x-python",
   "name": "python",
   "nbconvert_exporter": "python",
   "pygments_lexer": "ipython3",
   "version": "3.9.17"
  }
 },
 "nbformat": 4,
 "nbformat_minor": 2
}
