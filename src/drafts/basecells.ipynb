{
 "cells": [
  {
   "cell_type": "code",
   "execution_count": 129,
   "metadata": {},
   "outputs": [],
   "source": [
    "from h3 import h3\n",
    "import numpy as np\n",
    "import pandas as pd\n",
    "import sklearn.metrics\n",
    "import collections"
   ]
  },
  {
   "cell_type": "code",
   "execution_count": 130,
   "metadata": {},
   "outputs": [
    {
     "name": "stdout",
     "output_type": "stream",
     "text": [
      "Help on built-in function randn:\n",
      "\n",
      "randn(...) method of numpy.random.mtrand.RandomState instance\n",
      "    randn(d0, d1, ..., dn)\n",
      "    \n",
      "    Return a sample (or samples) from the \"standard normal\" distribution.\n",
      "    \n",
      "    .. note::\n",
      "        This is a convenience function for users porting code from Matlab,\n",
      "        and wraps `standard_normal`. That function takes a\n",
      "        tuple to specify the size of the output, which is consistent with\n",
      "        other NumPy functions like `numpy.zeros` and `numpy.ones`.\n",
      "    \n",
      "    .. note::\n",
      "        New code should use the ``standard_normal`` method of a ``default_rng()``\n",
      "        instance instead; please see the :ref:`random-quick-start`.\n",
      "    \n",
      "    If positive int_like arguments are provided, `randn` generates an array\n",
      "    of shape ``(d0, d1, ..., dn)``, filled\n",
      "    with random floats sampled from a univariate \"normal\" (Gaussian)\n",
      "    distribution of mean 0 and variance 1. A single float randomly sampled\n",
      "    from the distribution is returned if no argument is provided.\n",
      "    \n",
      "    Parameters\n",
      "    ----------\n",
      "    d0, d1, ..., dn : int, optional\n",
      "        The dimensions of the returned array, must be non-negative.\n",
      "        If no argument is given a single Python float is returned.\n",
      "    \n",
      "    Returns\n",
      "    -------\n",
      "    Z : ndarray or float\n",
      "        A ``(d0, d1, ..., dn)``-shaped array of floating-point samples from\n",
      "        the standard normal distribution, or a single such float if\n",
      "        no parameters were supplied.\n",
      "    \n",
      "    See Also\n",
      "    --------\n",
      "    standard_normal : Similar, but takes a tuple as its argument.\n",
      "    normal : Also accepts mu and sigma arguments.\n",
      "    random.Generator.standard_normal: which should be used for new code.\n",
      "    \n",
      "    Notes\n",
      "    -----\n",
      "    For random samples from :math:`N(\\mu, \\sigma^2)`, use:\n",
      "    \n",
      "    ``sigma * np.random.randn(...) + mu``\n",
      "    \n",
      "    Examples\n",
      "    --------\n",
      "    >>> np.random.randn()\n",
      "    2.1923875335537315  # random\n",
      "    \n",
      "    Two-by-four array of samples from N(3, 6.25):\n",
      "    \n",
      "    >>> 3 + 2.5 * np.random.randn(2, 4)\n",
      "    array([[-4.49401501,  4.00950034, -1.81814867,  7.29718677],   # random\n",
      "           [ 0.39924804,  4.68456316,  4.99394529,  4.84057254]])  # random\n",
      "\n"
     ]
    }
   ],
   "source": [
    "help(np.random.randn)"
   ]
  },
  {
   "cell_type": "code",
   "execution_count": 131,
   "metadata": {},
   "outputs": [
    {
     "data": {
      "text/plain": [
       "array([[ -12.71539293,   25.5935722 ],\n",
       "       [ -37.30492239, -163.51572233],\n",
       "       [   1.56384715,  -63.72772039],\n",
       "       ...,\n",
       "       [ -36.25129481,  -94.60530486],\n",
       "       [ -25.99274908,  153.91092904],\n",
       "       [  53.50628973,   -1.16466908]])"
      ]
     },
     "execution_count": 131,
     "metadata": {},
     "output_type": "execute_result"
    }
   ],
   "source": [
    "randpoints"
   ]
  },
  {
   "cell_type": "code",
   "execution_count": 132,
   "metadata": {},
   "outputs": [
    {
     "data": {
      "text/plain": [
       "122"
      ]
     },
     "execution_count": 132,
     "metadata": {},
     "output_type": "execute_result"
    }
   ],
   "source": [
    "randcoords = np.random.randn(1000000, 3)\n",
    "randpoints = np.zeros((randcoords.shape[0], 2))\n",
    "randpoints[:, 0] = np.arctan2(randcoords[:,2], np.sqrt(randcoords[:,0]**2 + randcoords[:,1]**2)) * 180/np.pi\n",
    "randpoints[:, 1] = np.arctan2(randcoords[:,1], randcoords[:,0]) * 180/np.pi\n",
    "basecells_arr = [\n",
    "    h3.geo_to_h3(x[0], x[1], 0)\n",
    "    for x in randpoints\n",
    "]\n",
    "len(set(basecells_arr))"
   ]
  },
  {
   "cell_type": "code",
   "execution_count": 133,
   "metadata": {},
   "outputs": [],
   "source": [
    "def lat_lng_to_array(coords):\n",
    "    deg_to_rad = np.pi / 180\n",
    "    return np.array([\n",
    "        np.cos(coords[0] * deg_to_rad) * np.cos(coords[1] * deg_to_rad),\n",
    "        np.cos(coords[0] * deg_to_rad) * np.sin(coords[1] * deg_to_rad),\n",
    "        np.sin(coords[0] * deg_to_rad)\n",
    "    ])"
   ]
  },
  {
   "cell_type": "code",
   "execution_count": 134,
   "metadata": {},
   "outputs": [],
   "source": [
    "df_base = pd.DataFrame(sorted(set(basecells_arr)))\n",
    "df_base.columns = ['id']\n",
    "df_base['coordinates'] = df_base['id'].apply(lambda x: h3.h3_to_geo(x))\n",
    "df_base['boundary'] = df_base['id'].apply(lambda x: h3.h3_to_geo_boundary(x))\n",
    "df_base['array_center'] = df_base['coordinates'].apply(lat_lng_to_array)\n",
    "df_base['array_boundaries'] = df_base['boundary'].apply(lambda ls: [lat_lng_to_array(x) for x in ls])"
   ]
  },
  {
   "cell_type": "code",
   "execution_count": 135,
   "metadata": {},
   "outputs": [
    {
     "data": {
      "text/html": [
       "<div>\n",
       "<style scoped>\n",
       "    .dataframe tbody tr th:only-of-type {\n",
       "        vertical-align: middle;\n",
       "    }\n",
       "\n",
       "    .dataframe tbody tr th {\n",
       "        vertical-align: top;\n",
       "    }\n",
       "\n",
       "    .dataframe thead th {\n",
       "        text-align: right;\n",
       "    }\n",
       "</style>\n",
       "<table border=\"1\" class=\"dataframe\">\n",
       "  <thead>\n",
       "    <tr style=\"text-align: right;\">\n",
       "      <th></th>\n",
       "      <th>id</th>\n",
       "      <th>coordinates</th>\n",
       "      <th>boundary</th>\n",
       "      <th>array_center</th>\n",
       "      <th>array_boundaries</th>\n",
       "    </tr>\n",
       "  </thead>\n",
       "  <tbody>\n",
       "    <tr>\n",
       "      <th>0</th>\n",
       "      <td>8001fffffffffff</td>\n",
       "      <td>(79.24239850975904, 38.02340700796989)</td>\n",
       "      <td>((68.92995788193983, 31.831280499087402), (69....</td>\n",
       "      <td>[0.14703869754820312, 0.1149759883838538, 0.98...</td>\n",
       "      <td>[[0.30544055810347437, 0.18961210830239347, 0....</td>\n",
       "    </tr>\n",
       "    <tr>\n",
       "      <th>1</th>\n",
       "      <td>8003fffffffffff</td>\n",
       "      <td>(79.220986356276, -107.42920224303745)</td>\n",
       "      <td>((87.36469532319619, 145.5581976913369), (76.1...</td>\n",
       "      <td>[-0.05601801132709355, -0.1784349382283302, 0....</td>\n",
       "      <td>[[-0.03791854196698824, 0.026004023022039743, ...</td>\n",
       "    </tr>\n",
       "    <tr>\n",
       "      <th>2</th>\n",
       "      <td>8005fffffffffff</td>\n",
       "      <td>(74.92843438917433, 145.35624192277984)</td>\n",
       "      <td>((76.163042830191, 94.14309010184775), (66.203...</td>\n",
       "      <td>[-0.21392348345014206, 0.14781718295507032, 0....</td>\n",
       "      <td>[[-0.01727871378473626, 0.23853482399982026, 0...</td>\n",
       "    </tr>\n",
       "    <tr>\n",
       "      <th>3</th>\n",
       "      <td>8007fffffffffff</td>\n",
       "      <td>(69.66345294982115, -30.968044606549025)</td>\n",
       "      <td>((73.31022368544396, 0.3256103519432223), (81....</td>\n",
       "      <td>[0.2979944168415081, -0.17882698246659262, 0.9...</td>\n",
       "      <td>[[0.28718496677858113, 0.0016320819018338529, ...</td>\n",
       "    </tr>\n",
       "    <tr>\n",
       "      <th>4</th>\n",
       "      <td>8009fffffffffff</td>\n",
       "      <td>(64.70000012793487, 10.53619907546767)</td>\n",
       "      <td>((63.09505407752544, -10.444977544778336), (55...</td>\n",
       "      <td>[0.42015242670871017, 0.07814524940278324, 0.9...</td>\n",
       "      <td>[[0.44501332647714237, -0.0820363869648118, 0....</td>\n",
       "    </tr>\n",
       "    <tr>\n",
       "      <th>...</th>\n",
       "      <td>...</td>\n",
       "      <td>...</td>\n",
       "      <td>...</td>\n",
       "      <td>...</td>\n",
       "      <td>...</td>\n",
       "    </tr>\n",
       "    <tr>\n",
       "      <th>117</th>\n",
       "      <td>80ebfffffffffff</td>\n",
       "      <td>(-64.7000001279349, -169.46380092453236)</td>\n",
       "      <td>((-58.40154487035269, -154.91727767329215), (-...</td>\n",
       "      <td>[-0.4201524267087098, -0.07814524940278292, -0...</td>\n",
       "      <td>[[-0.4745514937255474, -0.22212168495739576, -...</td>\n",
       "    </tr>\n",
       "    <tr>\n",
       "      <th>118</th>\n",
       "      <td>80edfffffffffff</td>\n",
       "      <td>(-69.66345294982114, 149.03195539345097)</td>\n",
       "      <td>((-63.09505407752546, 169.55502245522166), (-5...</td>\n",
       "      <td>[-0.2979944168415083, 0.17882698246659284, -0....</td>\n",
       "      <td>[[-0.445013326477142, 0.08203638696481172, -0....</td>\n",
       "    </tr>\n",
       "    <tr>\n",
       "      <th>119</th>\n",
       "      <td>80effffffffffff</td>\n",
       "      <td>(-74.92843438917433, -34.64375807722018)</td>\n",
       "      <td>((-87.36469532319619, -34.441802308663334), (-...</td>\n",
       "      <td>[0.21392348345014203, -0.14781718295507038, -0...</td>\n",
       "      <td>[[0.03791854196698814, -0.026004023022039885, ...</td>\n",
       "    </tr>\n",
       "    <tr>\n",
       "      <th>120</th>\n",
       "      <td>80f1fffffffffff</td>\n",
       "      <td>(-79.220986356276, 72.57079775696259)</td>\n",
       "      <td>((-81.27137179020501, 145.24158201971537), (-7...</td>\n",
       "      <td>[0.056018011327093414, 0.17843493822833026, -0...</td>\n",
       "      <td>[[-0.12467608176339194, 0.08651801122940947, -...</td>\n",
       "    </tr>\n",
       "    <tr>\n",
       "      <th>121</th>\n",
       "      <td>80f3fffffffffff</td>\n",
       "      <td>(-79.24239850975904, -141.97659299203013)</td>\n",
       "      <td>((-73.31022368544396, -179.67438964805675), (-...</td>\n",
       "      <td>[-0.14703869754820312, -0.11497598838385377, -...</td>\n",
       "      <td>[[-0.28718496677858113, -0.0016320819018340793...</td>\n",
       "    </tr>\n",
       "  </tbody>\n",
       "</table>\n",
       "<p>122 rows × 5 columns</p>\n",
       "</div>"
      ],
      "text/plain": [
       "                  id                                coordinates  \\\n",
       "0    8001fffffffffff     (79.24239850975904, 38.02340700796989)   \n",
       "1    8003fffffffffff     (79.220986356276, -107.42920224303745)   \n",
       "2    8005fffffffffff    (74.92843438917433, 145.35624192277984)   \n",
       "3    8007fffffffffff   (69.66345294982115, -30.968044606549025)   \n",
       "4    8009fffffffffff     (64.70000012793487, 10.53619907546767)   \n",
       "..               ...                                        ...   \n",
       "117  80ebfffffffffff   (-64.7000001279349, -169.46380092453236)   \n",
       "118  80edfffffffffff   (-69.66345294982114, 149.03195539345097)   \n",
       "119  80effffffffffff   (-74.92843438917433, -34.64375807722018)   \n",
       "120  80f1fffffffffff      (-79.220986356276, 72.57079775696259)   \n",
       "121  80f3fffffffffff  (-79.24239850975904, -141.97659299203013)   \n",
       "\n",
       "                                              boundary  \\\n",
       "0    ((68.92995788193983, 31.831280499087402), (69....   \n",
       "1    ((87.36469532319619, 145.5581976913369), (76.1...   \n",
       "2    ((76.163042830191, 94.14309010184775), (66.203...   \n",
       "3    ((73.31022368544396, 0.3256103519432223), (81....   \n",
       "4    ((63.09505407752544, -10.444977544778336), (55...   \n",
       "..                                                 ...   \n",
       "117  ((-58.40154487035269, -154.91727767329215), (-...   \n",
       "118  ((-63.09505407752546, 169.55502245522166), (-5...   \n",
       "119  ((-87.36469532319619, -34.441802308663334), (-...   \n",
       "120  ((-81.27137179020501, 145.24158201971537), (-7...   \n",
       "121  ((-73.31022368544396, -179.67438964805675), (-...   \n",
       "\n",
       "                                          array_center  \\\n",
       "0    [0.14703869754820312, 0.1149759883838538, 0.98...   \n",
       "1    [-0.05601801132709355, -0.1784349382283302, 0....   \n",
       "2    [-0.21392348345014206, 0.14781718295507032, 0....   \n",
       "3    [0.2979944168415081, -0.17882698246659262, 0.9...   \n",
       "4    [0.42015242670871017, 0.07814524940278324, 0.9...   \n",
       "..                                                 ...   \n",
       "117  [-0.4201524267087098, -0.07814524940278292, -0...   \n",
       "118  [-0.2979944168415083, 0.17882698246659284, -0....   \n",
       "119  [0.21392348345014203, -0.14781718295507038, -0...   \n",
       "120  [0.056018011327093414, 0.17843493822833026, -0...   \n",
       "121  [-0.14703869754820312, -0.11497598838385377, -...   \n",
       "\n",
       "                                      array_boundaries  \n",
       "0    [[0.30544055810347437, 0.18961210830239347, 0....  \n",
       "1    [[-0.03791854196698824, 0.026004023022039743, ...  \n",
       "2    [[-0.01727871378473626, 0.23853482399982026, 0...  \n",
       "3    [[0.28718496677858113, 0.0016320819018338529, ...  \n",
       "4    [[0.44501332647714237, -0.0820363869648118, 0....  \n",
       "..                                                 ...  \n",
       "117  [[-0.4745514937255474, -0.22212168495739576, -...  \n",
       "118  [[-0.445013326477142, 0.08203638696481172, -0....  \n",
       "119  [[0.03791854196698814, -0.026004023022039885, ...  \n",
       "120  [[-0.12467608176339194, 0.08651801122940947, -...  \n",
       "121  [[-0.28718496677858113, -0.0016320819018340793...  \n",
       "\n",
       "[122 rows x 5 columns]"
      ]
     },
     "execution_count": 135,
     "metadata": {},
     "output_type": "execute_result"
    }
   ],
   "source": [
    "df_base"
   ]
  },
  {
   "cell_type": "code",
   "execution_count": 136,
   "metadata": {},
   "outputs": [
    {
     "data": {
      "text/plain": [
       "(numpy.ndarray, (122, 3))"
      ]
     },
     "execution_count": 136,
     "metadata": {},
     "output_type": "execute_result"
    }
   ],
   "source": [
    "centers = np.concatenate([x.reshape(-1, 1) for x in df_base['array_center'].values], axis=1).T\n",
    "type(centers), centers.shape"
   ]
  },
  {
   "cell_type": "code",
   "execution_count": 137,
   "metadata": {},
   "outputs": [],
   "source": [
    "distance_faces = sklearn.metrics.pairwise.linear_kernel(centers)\n",
    "distance_sorted = distance_faces.round(5).copy()\n",
    "distance_sorted.sort(axis=1)\n",
    "distance_sorted = distance_sorted[:, -7:]"
   ]
  },
  {
   "cell_type": "code",
   "execution_count": 138,
   "metadata": {},
   "outputs": [
    {
     "data": {
      "text/plain": [
       "Counter({(0.93417, 0.93634, 0.93634, 0.94444, 0.94444, 0.95896, 1.0): 60,\n",
       "         (0.93417, 0.93417, 0.93634, 0.93634, 0.93634, 0.93634, 1.0): 30,\n",
       "         (0.93417, 0.93417, 0.93417, 0.93417, 0.93417, 0.93417, 1.0): 20,\n",
       "         (0.85065, 0.95896, 0.95896, 0.95896, 0.95896, 0.95896, 1.0): 12})"
      ]
     },
     "execution_count": 138,
     "metadata": {},
     "output_type": "execute_result"
    }
   ],
   "source": [
    "ct = collections.Counter([tuple(x) for x in distance_sorted])\n",
    "ct"
   ]
  },
  {
   "cell_type": "code",
   "execution_count": 139,
   "metadata": {},
   "outputs": [
    {
     "data": {
      "text/plain": [
       "Counter({'single_face': 60,\n",
       "         'divided_faces': 30,\n",
       "         'center_face': 20,\n",
       "         'vertice': 12})"
      ]
     },
     "execution_count": 139,
     "metadata": {},
     "output_type": "execute_result"
    }
   ],
   "source": [
    "dict_types = {\n",
    "    12: 'vertice',\n",
    "    20: 'center_face',\n",
    "    60: 'single_face',\n",
    "    30: 'divided_faces'\n",
    "}\n",
    "face_types = [\n",
    "    dict_types[dict(ct)[tuple(x)]] for x in distance_sorted\n",
    "]\n",
    "collections.Counter(face_types)"
   ]
  },
  {
   "cell_type": "code",
   "execution_count": 140,
   "metadata": {},
   "outputs": [],
   "source": [
    "df_base['face_type'] = face_types"
   ]
  },
  {
   "cell_type": "code",
   "execution_count": 141,
   "metadata": {},
   "outputs": [
    {
     "data": {
      "text/html": [
       "<div>\n",
       "<style scoped>\n",
       "    .dataframe tbody tr th:only-of-type {\n",
       "        vertical-align: middle;\n",
       "    }\n",
       "\n",
       "    .dataframe tbody tr th {\n",
       "        vertical-align: top;\n",
       "    }\n",
       "\n",
       "    .dataframe thead th {\n",
       "        text-align: right;\n",
       "    }\n",
       "</style>\n",
       "<table border=\"1\" class=\"dataframe\">\n",
       "  <thead>\n",
       "    <tr style=\"text-align: right;\">\n",
       "      <th></th>\n",
       "      <th>id</th>\n",
       "      <th>coordinates</th>\n",
       "      <th>boundary</th>\n",
       "      <th>array_center</th>\n",
       "      <th>array_boundaries</th>\n",
       "      <th>face_type</th>\n",
       "    </tr>\n",
       "  </thead>\n",
       "  <tbody>\n",
       "    <tr>\n",
       "      <th>0</th>\n",
       "      <td>8001fffffffffff</td>\n",
       "      <td>(79.24239850975904, 38.02340700796989)</td>\n",
       "      <td>((68.92995788193983, 31.831280499087402), (69....</td>\n",
       "      <td>[0.14703869754820312, 0.1149759883838538, 0.98...</td>\n",
       "      <td>[[0.30544055810347437, 0.18961210830239347, 0....</td>\n",
       "      <td>single_face</td>\n",
       "    </tr>\n",
       "    <tr>\n",
       "      <th>1</th>\n",
       "      <td>8003fffffffffff</td>\n",
       "      <td>(79.220986356276, -107.42920224303745)</td>\n",
       "      <td>((87.36469532319619, 145.5581976913369), (76.1...</td>\n",
       "      <td>[-0.05601801132709355, -0.1784349382283302, 0....</td>\n",
       "      <td>[[-0.03791854196698824, 0.026004023022039743, ...</td>\n",
       "      <td>divided_faces</td>\n",
       "    </tr>\n",
       "    <tr>\n",
       "      <th>2</th>\n",
       "      <td>8005fffffffffff</td>\n",
       "      <td>(74.92843438917433, 145.35624192277984)</td>\n",
       "      <td>((76.163042830191, 94.14309010184775), (66.203...</td>\n",
       "      <td>[-0.21392348345014206, 0.14781718295507032, 0....</td>\n",
       "      <td>[[-0.01727871378473626, 0.23853482399982026, 0...</td>\n",
       "      <td>center_face</td>\n",
       "    </tr>\n",
       "    <tr>\n",
       "      <th>3</th>\n",
       "      <td>8007fffffffffff</td>\n",
       "      <td>(69.66345294982115, -30.968044606549025)</td>\n",
       "      <td>((73.31022368544396, 0.3256103519432223), (81....</td>\n",
       "      <td>[0.2979944168415081, -0.17882698246659262, 0.9...</td>\n",
       "      <td>[[0.28718496677858113, 0.0016320819018338529, ...</td>\n",
       "      <td>single_face</td>\n",
       "    </tr>\n",
       "    <tr>\n",
       "      <th>4</th>\n",
       "      <td>8009fffffffffff</td>\n",
       "      <td>(64.70000012793487, 10.53619907546767)</td>\n",
       "      <td>((63.09505407752544, -10.444977544778336), (55...</td>\n",
       "      <td>[0.42015242670871017, 0.07814524940278324, 0.9...</td>\n",
       "      <td>[[0.44501332647714237, -0.0820363869648118, 0....</td>\n",
       "      <td>vertice</td>\n",
       "    </tr>\n",
       "    <tr>\n",
       "      <th>...</th>\n",
       "      <td>...</td>\n",
       "      <td>...</td>\n",
       "      <td>...</td>\n",
       "      <td>...</td>\n",
       "      <td>...</td>\n",
       "      <td>...</td>\n",
       "    </tr>\n",
       "    <tr>\n",
       "      <th>117</th>\n",
       "      <td>80ebfffffffffff</td>\n",
       "      <td>(-64.7000001279349, -169.46380092453236)</td>\n",
       "      <td>((-58.40154487035269, -154.91727767329215), (-...</td>\n",
       "      <td>[-0.4201524267087098, -0.07814524940278292, -0...</td>\n",
       "      <td>[[-0.4745514937255474, -0.22212168495739576, -...</td>\n",
       "      <td>vertice</td>\n",
       "    </tr>\n",
       "    <tr>\n",
       "      <th>118</th>\n",
       "      <td>80edfffffffffff</td>\n",
       "      <td>(-69.66345294982114, 149.03195539345097)</td>\n",
       "      <td>((-63.09505407752546, 169.55502245522166), (-5...</td>\n",
       "      <td>[-0.2979944168415083, 0.17882698246659284, -0....</td>\n",
       "      <td>[[-0.445013326477142, 0.08203638696481172, -0....</td>\n",
       "      <td>single_face</td>\n",
       "    </tr>\n",
       "    <tr>\n",
       "      <th>119</th>\n",
       "      <td>80effffffffffff</td>\n",
       "      <td>(-74.92843438917433, -34.64375807722018)</td>\n",
       "      <td>((-87.36469532319619, -34.441802308663334), (-...</td>\n",
       "      <td>[0.21392348345014203, -0.14781718295507038, -0...</td>\n",
       "      <td>[[0.03791854196698814, -0.026004023022039885, ...</td>\n",
       "      <td>center_face</td>\n",
       "    </tr>\n",
       "    <tr>\n",
       "      <th>120</th>\n",
       "      <td>80f1fffffffffff</td>\n",
       "      <td>(-79.220986356276, 72.57079775696259)</td>\n",
       "      <td>((-81.27137179020501, 145.24158201971537), (-7...</td>\n",
       "      <td>[0.056018011327093414, 0.17843493822833026, -0...</td>\n",
       "      <td>[[-0.12467608176339194, 0.08651801122940947, -...</td>\n",
       "      <td>divided_faces</td>\n",
       "    </tr>\n",
       "    <tr>\n",
       "      <th>121</th>\n",
       "      <td>80f3fffffffffff</td>\n",
       "      <td>(-79.24239850975904, -141.97659299203013)</td>\n",
       "      <td>((-73.31022368544396, -179.67438964805675), (-...</td>\n",
       "      <td>[-0.14703869754820312, -0.11497598838385377, -...</td>\n",
       "      <td>[[-0.28718496677858113, -0.0016320819018340793...</td>\n",
       "      <td>single_face</td>\n",
       "    </tr>\n",
       "  </tbody>\n",
       "</table>\n",
       "<p>122 rows × 6 columns</p>\n",
       "</div>"
      ],
      "text/plain": [
       "                  id                                coordinates  \\\n",
       "0    8001fffffffffff     (79.24239850975904, 38.02340700796989)   \n",
       "1    8003fffffffffff     (79.220986356276, -107.42920224303745)   \n",
       "2    8005fffffffffff    (74.92843438917433, 145.35624192277984)   \n",
       "3    8007fffffffffff   (69.66345294982115, -30.968044606549025)   \n",
       "4    8009fffffffffff     (64.70000012793487, 10.53619907546767)   \n",
       "..               ...                                        ...   \n",
       "117  80ebfffffffffff   (-64.7000001279349, -169.46380092453236)   \n",
       "118  80edfffffffffff   (-69.66345294982114, 149.03195539345097)   \n",
       "119  80effffffffffff   (-74.92843438917433, -34.64375807722018)   \n",
       "120  80f1fffffffffff      (-79.220986356276, 72.57079775696259)   \n",
       "121  80f3fffffffffff  (-79.24239850975904, -141.97659299203013)   \n",
       "\n",
       "                                              boundary  \\\n",
       "0    ((68.92995788193983, 31.831280499087402), (69....   \n",
       "1    ((87.36469532319619, 145.5581976913369), (76.1...   \n",
       "2    ((76.163042830191, 94.14309010184775), (66.203...   \n",
       "3    ((73.31022368544396, 0.3256103519432223), (81....   \n",
       "4    ((63.09505407752544, -10.444977544778336), (55...   \n",
       "..                                                 ...   \n",
       "117  ((-58.40154487035269, -154.91727767329215), (-...   \n",
       "118  ((-63.09505407752546, 169.55502245522166), (-5...   \n",
       "119  ((-87.36469532319619, -34.441802308663334), (-...   \n",
       "120  ((-81.27137179020501, 145.24158201971537), (-7...   \n",
       "121  ((-73.31022368544396, -179.67438964805675), (-...   \n",
       "\n",
       "                                          array_center  \\\n",
       "0    [0.14703869754820312, 0.1149759883838538, 0.98...   \n",
       "1    [-0.05601801132709355, -0.1784349382283302, 0....   \n",
       "2    [-0.21392348345014206, 0.14781718295507032, 0....   \n",
       "3    [0.2979944168415081, -0.17882698246659262, 0.9...   \n",
       "4    [0.42015242670871017, 0.07814524940278324, 0.9...   \n",
       "..                                                 ...   \n",
       "117  [-0.4201524267087098, -0.07814524940278292, -0...   \n",
       "118  [-0.2979944168415083, 0.17882698246659284, -0....   \n",
       "119  [0.21392348345014203, -0.14781718295507038, -0...   \n",
       "120  [0.056018011327093414, 0.17843493822833026, -0...   \n",
       "121  [-0.14703869754820312, -0.11497598838385377, -...   \n",
       "\n",
       "                                      array_boundaries      face_type  \n",
       "0    [[0.30544055810347437, 0.18961210830239347, 0....    single_face  \n",
       "1    [[-0.03791854196698824, 0.026004023022039743, ...  divided_faces  \n",
       "2    [[-0.01727871378473626, 0.23853482399982026, 0...    center_face  \n",
       "3    [[0.28718496677858113, 0.0016320819018338529, ...    single_face  \n",
       "4    [[0.44501332647714237, -0.0820363869648118, 0....        vertice  \n",
       "..                                                 ...            ...  \n",
       "117  [[-0.4745514937255474, -0.22212168495739576, -...        vertice  \n",
       "118  [[-0.445013326477142, 0.08203638696481172, -0....    single_face  \n",
       "119  [[0.03791854196698814, -0.026004023022039885, ...    center_face  \n",
       "120  [[-0.12467608176339194, 0.08651801122940947, -...  divided_faces  \n",
       "121  [[-0.28718496677858113, -0.0016320819018340793...    single_face  \n",
       "\n",
       "[122 rows x 6 columns]"
      ]
     },
     "execution_count": 141,
     "metadata": {},
     "output_type": "execute_result"
    }
   ],
   "source": [
    "df_base"
   ]
  },
  {
   "cell_type": "code",
   "execution_count": 142,
   "metadata": {},
   "outputs": [
    {
     "data": {
      "text/plain": [
       "(numpy.ndarray, (32, 3))"
      ]
     },
     "execution_count": 142,
     "metadata": {},
     "output_type": "execute_result"
    }
   ],
   "source": [
    "reference_points = np.concatenate(\n",
    "    (\n",
    "        [x.reshape(-1, 1) for x in df_base[df_base['face_type']=='vertice']['array_center'].values]\n",
    "        + [x.reshape(-1, 1) for x in df_base[df_base['face_type']=='center_face']['array_center'].values]\n",
    "    ), axis=1).T\n",
    "type(reference_points), reference_points.shape"
   ]
  },
  {
   "cell_type": "code",
   "execution_count": 143,
   "metadata": {},
   "outputs": [],
   "source": [
    "df_randpoints = pd.DataFrame(randpoints)\n",
    "df_randpoints.columns = ['latitude', 'longitude']"
   ]
  },
  {
   "cell_type": "code",
   "execution_count": 144,
   "metadata": {},
   "outputs": [],
   "source": [
    "def bit_structure(cell_str):\n",
    "    as_binary = bin(int(cell_str, base=16))[2:].zfill(64)\n",
    "    start = as_binary[:-52]\n",
    "    base = as_binary[-52:-45]\n",
    "    rest = as_binary[-45:]\n",
    "\n",
    "    return start, base, rest"
   ]
  },
  {
   "cell_type": "code",
   "execution_count": 145,
   "metadata": {},
   "outputs": [],
   "source": [
    "df_randpoints['cell_id_r15'] = df_randpoints.apply(\n",
    "    lambda row: h3.geo_to_h3(row['latitude'], row['longitude'], 15), axis=1\n",
    ")\n",
    "df_randpoints['cell_id_r00'] = df_randpoints.apply(\n",
    "    lambda row: h3.geo_to_h3(row['latitude'], row['longitude'], 0), axis=1\n",
    ")"
   ]
  },
  {
   "cell_type": "code",
   "execution_count": 146,
   "metadata": {},
   "outputs": [],
   "source": [
    "df_randpoints['bit_structure_r15'] = df_randpoints['cell_id_r15'].apply(bit_structure)\n",
    "df_randpoints['bit_structure_r00'] = df_randpoints['cell_id_r00'].apply(bit_structure)"
   ]
  },
  {
   "cell_type": "code",
   "execution_count": 147,
   "metadata": {},
   "outputs": [
    {
     "data": {
      "text/plain": [
       "True     0.935057\n",
       "False    0.064943\n",
       "dtype: float64"
      ]
     },
     "execution_count": 147,
     "metadata": {},
     "output_type": "execute_result"
    }
   ],
   "source": [
    "check = df_randpoints['bit_structure_r15'].apply(lambda x: x[1]) == df_randpoints['bit_structure_r00'].apply(lambda x: x[1])\n",
    "check.value_counts(normalize=True)"
   ]
  },
  {
   "cell_type": "code",
   "execution_count": 151,
   "metadata": {},
   "outputs": [],
   "source": [
    "face_types_mapper = {\n",
    "    bit_structure(row['id'])[1]: row['face_type']\n",
    "    for _, row in df_base.iterrows()\n",
    "}"
   ]
  },
  {
   "cell_type": "code",
   "execution_count": 152,
   "metadata": {},
   "outputs": [],
   "source": [
    "df_randpoints['face_type_r00'] = df_randpoints['bit_structure_r00'].apply(lambda v: face_types_mapper[v[1]])\n",
    "df_randpoints['face_type_r15'] = df_randpoints['bit_structure_r15'].apply(lambda v: face_types_mapper[v[1]])\n"
   ]
  },
  {
   "cell_type": "code",
   "execution_count": 157,
   "metadata": {},
   "outputs": [
    {
     "data": {
      "text/html": [
       "<div>\n",
       "<style scoped>\n",
       "    .dataframe tbody tr th:only-of-type {\n",
       "        vertical-align: middle;\n",
       "    }\n",
       "\n",
       "    .dataframe tbody tr th {\n",
       "        vertical-align: top;\n",
       "    }\n",
       "\n",
       "    .dataframe thead th {\n",
       "        text-align: right;\n",
       "    }\n",
       "</style>\n",
       "<table border=\"1\" class=\"dataframe\">\n",
       "  <thead>\n",
       "    <tr style=\"text-align: right;\">\n",
       "      <th>face_type_r15</th>\n",
       "      <th>center_face</th>\n",
       "      <th>divided_faces</th>\n",
       "      <th>single_face</th>\n",
       "      <th>vertice</th>\n",
       "    </tr>\n",
       "    <tr>\n",
       "      <th>face_type_r00</th>\n",
       "      <th></th>\n",
       "      <th></th>\n",
       "      <th></th>\n",
       "      <th></th>\n",
       "    </tr>\n",
       "  </thead>\n",
       "  <tbody>\n",
       "    <tr>\n",
       "      <th>center_face</th>\n",
       "      <td>182867</td>\n",
       "      <td>6303</td>\n",
       "      <td>6220</td>\n",
       "      <td>0</td>\n",
       "    </tr>\n",
       "    <tr>\n",
       "      <th>divided_faces</th>\n",
       "      <td>6144</td>\n",
       "      <td>243806</td>\n",
       "      <td>11088</td>\n",
       "      <td>0</td>\n",
       "    </tr>\n",
       "    <tr>\n",
       "      <th>single_face</th>\n",
       "      <td>6192</td>\n",
       "      <td>11215</td>\n",
       "      <td>461918</td>\n",
       "      <td>4291</td>\n",
       "    </tr>\n",
       "    <tr>\n",
       "      <th>vertice</th>\n",
       "      <td>0</td>\n",
       "      <td>0</td>\n",
       "      <td>4187</td>\n",
       "      <td>55769</td>\n",
       "    </tr>\n",
       "  </tbody>\n",
       "</table>\n",
       "</div>"
      ],
      "text/plain": [
       "face_type_r15  center_face  divided_faces  single_face  vertice\n",
       "face_type_r00                                                  \n",
       "center_face         182867           6303         6220        0\n",
       "divided_faces         6144         243806        11088        0\n",
       "single_face           6192          11215       461918     4291\n",
       "vertice                  0              0         4187    55769"
      ]
     },
     "execution_count": 157,
     "metadata": {},
     "output_type": "execute_result"
    }
   ],
   "source": [
    "a = pd.pivot_table(\n",
    "    df_randpoints.assign(count=1),\n",
    "    index=['face_type_r00'],\n",
    "    columns=['face_type_r15'],\n",
    "    values='count',\n",
    "    aggfunc='sum',\n",
    "    fill_value=0,\n",
    ")\n",
    "a"
   ]
  },
  {
   "cell_type": "code",
   "execution_count": 160,
   "metadata": {},
   "outputs": [],
   "source": [
    "fractions = ((a / a.sum().sum())*100)"
   ]
  },
  {
   "cell_type": "code",
   "execution_count": 162,
   "metadata": {},
   "outputs": [
    {
     "data": {
      "text/html": [
       "<div>\n",
       "<style scoped>\n",
       "    .dataframe tbody tr th:only-of-type {\n",
       "        vertical-align: middle;\n",
       "    }\n",
       "\n",
       "    .dataframe tbody tr th {\n",
       "        vertical-align: top;\n",
       "    }\n",
       "\n",
       "    .dataframe thead th {\n",
       "        text-align: right;\n",
       "    }\n",
       "</style>\n",
       "<table border=\"1\" class=\"dataframe\">\n",
       "  <thead>\n",
       "    <tr style=\"text-align: right;\">\n",
       "      <th>face_type_r15</th>\n",
       "      <th>center_face</th>\n",
       "      <th>divided_faces</th>\n",
       "      <th>single_face</th>\n",
       "      <th>vertice</th>\n",
       "    </tr>\n",
       "    <tr>\n",
       "      <th>face_type_r00</th>\n",
       "      <th></th>\n",
       "      <th></th>\n",
       "      <th></th>\n",
       "      <th></th>\n",
       "    </tr>\n",
       "  </thead>\n",
       "  <tbody>\n",
       "    <tr>\n",
       "      <th>center_face</th>\n",
       "      <td>18.29</td>\n",
       "      <td>0.63</td>\n",
       "      <td>0.62</td>\n",
       "      <td>0.00</td>\n",
       "    </tr>\n",
       "    <tr>\n",
       "      <th>divided_faces</th>\n",
       "      <td>0.61</td>\n",
       "      <td>24.38</td>\n",
       "      <td>1.11</td>\n",
       "      <td>0.00</td>\n",
       "    </tr>\n",
       "    <tr>\n",
       "      <th>single_face</th>\n",
       "      <td>0.62</td>\n",
       "      <td>1.12</td>\n",
       "      <td>46.19</td>\n",
       "      <td>0.43</td>\n",
       "    </tr>\n",
       "    <tr>\n",
       "      <th>vertice</th>\n",
       "      <td>0.00</td>\n",
       "      <td>0.00</td>\n",
       "      <td>0.42</td>\n",
       "      <td>5.58</td>\n",
       "    </tr>\n",
       "  </tbody>\n",
       "</table>\n",
       "</div>"
      ],
      "text/plain": [
       "face_type_r15  center_face  divided_faces  single_face  vertice\n",
       "face_type_r00                                                  \n",
       "center_face          18.29           0.63         0.62     0.00\n",
       "divided_faces         0.61          24.38         1.11     0.00\n",
       "single_face           0.62           1.12        46.19     0.43\n",
       "vertice               0.00           0.00         0.42     5.58"
      ]
     },
     "execution_count": 162,
     "metadata": {},
     "output_type": "execute_result"
    }
   ],
   "source": [
    "fractions.round(2)"
   ]
  },
  {
   "cell_type": "code",
   "execution_count": 163,
   "metadata": {},
   "outputs": [
    {
     "data": {
      "text/plain": [
       "face_type_r00\n",
       "center_face      19.54\n",
       "divided_faces    26.10\n",
       "single_face      48.36\n",
       "vertice           6.00\n",
       "dtype: float64"
      ]
     },
     "execution_count": 163,
     "metadata": {},
     "output_type": "execute_result"
    }
   ],
   "source": [
    "fractions.sum(axis=1).round(2)"
   ]
  },
  {
   "cell_type": "code",
   "execution_count": 164,
   "metadata": {},
   "outputs": [
    {
     "data": {
      "text/plain": [
       "face_type_r15\n",
       "center_face      19.52\n",
       "divided_faces    26.13\n",
       "single_face      48.34\n",
       "vertice           6.01\n",
       "dtype: float64"
      ]
     },
     "execution_count": 164,
     "metadata": {},
     "output_type": "execute_result"
    }
   ],
   "source": [
    "fractions.sum(axis=0).round(2)"
   ]
  },
  {
   "cell_type": "code",
   "execution_count": 167,
   "metadata": {},
   "outputs": [],
   "source": [
    "df_randpoints['cell_hierarchy_index_r00'] = df_randpoints['bit_structure_r00'].apply(\n",
    "    lambda x: [int(x[2][3*i:3*(i+1)], base=2) for i in range(15)]\n",
    ")\n",
    "df_randpoints['cell_hierarchy_index_r15'] = df_randpoints['bit_structure_r15'].apply(\n",
    "    lambda x: [int(x[2][3*i:3*(i+1)], base=2) for i in range(15)]\n",
    ")"
   ]
  },
  {
   "cell_type": "code",
   "execution_count": 168,
   "metadata": {},
   "outputs": [
    {
     "data": {
      "text/html": [
       "<div>\n",
       "<style scoped>\n",
       "    .dataframe tbody tr th:only-of-type {\n",
       "        vertical-align: middle;\n",
       "    }\n",
       "\n",
       "    .dataframe tbody tr th {\n",
       "        vertical-align: top;\n",
       "    }\n",
       "\n",
       "    .dataframe thead th {\n",
       "        text-align: right;\n",
       "    }\n",
       "</style>\n",
       "<table border=\"1\" class=\"dataframe\">\n",
       "  <thead>\n",
       "    <tr style=\"text-align: right;\">\n",
       "      <th></th>\n",
       "      <th>latitude</th>\n",
       "      <th>longitude</th>\n",
       "      <th>cell_id_r15</th>\n",
       "      <th>cell_id_r00</th>\n",
       "      <th>bit_structure_r15</th>\n",
       "      <th>bit_structure_r00</th>\n",
       "      <th>face_type_r00</th>\n",
       "      <th>face_type_r15</th>\n",
       "      <th>cell_hierarchy_index_r00</th>\n",
       "      <th>cell_hierarchy_index_r15</th>\n",
       "    </tr>\n",
       "  </thead>\n",
       "  <tbody>\n",
       "    <tr>\n",
       "      <th>0</th>\n",
       "      <td>38.155866</td>\n",
       "      <td>-90.313939</td>\n",
       "      <td>8f26404dc281870</td>\n",
       "      <td>8027fffffffffff</td>\n",
       "      <td>(000010001111, 0010011, 0010000000100110111000...</td>\n",
       "      <td>(000010000000, 0010011, 1111111111111111111111...</td>\n",
       "      <td>divided_faces</td>\n",
       "      <td>divided_faces</td>\n",
       "      <td>[7, 7, 7, 7, 7, 7, 7, 7, 7, 7, 7, 7, 7, 7, 7]</td>\n",
       "      <td>[1, 0, 0, 2, 3, 3, 4, 1, 2, 0, 1, 4, 1, 6, 0]</td>\n",
       "    </tr>\n",
       "    <tr>\n",
       "      <th>1</th>\n",
       "      <td>42.092960</td>\n",
       "      <td>1.415996</td>\n",
       "      <td>8f39626c1c72196</td>\n",
       "      <td>8039fffffffffff</td>\n",
       "      <td>(000010001111, 0011100, 1011000100110110000011...</td>\n",
       "      <td>(000010000000, 0011100, 1111111111111111111111...</td>\n",
       "      <td>divided_faces</td>\n",
       "      <td>divided_faces</td>\n",
       "      <td>[7, 7, 7, 7, 7, 7, 7, 7, 7, 7, 7, 7, 7, 7, 7]</td>\n",
       "      <td>[5, 4, 2, 3, 3, 0, 1, 6, 1, 6, 2, 0, 6, 2, 6]</td>\n",
       "    </tr>\n",
       "    <tr>\n",
       "      <th>2</th>\n",
       "      <td>11.003787</td>\n",
       "      <td>-78.400307</td>\n",
       "      <td>8f6789915af5a2d</td>\n",
       "      <td>8067fffffffffff</td>\n",
       "      <td>(000010001111, 0110011, 1100010011001000101011...</td>\n",
       "      <td>(000010000000, 0110011, 1111111111111111111111...</td>\n",
       "      <td>single_face</td>\n",
       "      <td>single_face</td>\n",
       "      <td>[7, 7, 7, 7, 7, 7, 7, 7, 7, 7, 7, 7, 7, 7, 7]</td>\n",
       "      <td>[6, 1, 1, 4, 4, 2, 5, 5, 3, 6, 5, 5, 0, 5, 5]</td>\n",
       "    </tr>\n",
       "    <tr>\n",
       "      <th>3</th>\n",
       "      <td>45.393235</td>\n",
       "      <td>-2.041894</td>\n",
       "      <td>8f184c50c3b60b6</td>\n",
       "      <td>8019fffffffffff</td>\n",
       "      <td>(000010001111, 0001100, 0010011000101000011000...</td>\n",
       "      <td>(000010000000, 0001100, 1111111111111111111111...</td>\n",
       "      <td>single_face</td>\n",
       "      <td>single_face</td>\n",
       "      <td>[7, 7, 7, 7, 7, 7, 7, 7, 7, 7, 7, 7, 7, 7, 7]</td>\n",
       "      <td>[1, 1, 4, 2, 4, 1, 4, 1, 6, 6, 6, 0, 2, 6, 6]</td>\n",
       "    </tr>\n",
       "    <tr>\n",
       "      <th>4</th>\n",
       "      <td>-23.640898</td>\n",
       "      <td>-13.011441</td>\n",
       "      <td>8fc1266056f1572</td>\n",
       "      <td>80c1fffffffffff</td>\n",
       "      <td>(000010001111, 1100000, 1001001100110000001010...</td>\n",
       "      <td>(000010000000, 1100000, 1111111111111111111111...</td>\n",
       "      <td>center_face</td>\n",
       "      <td>center_face</td>\n",
       "      <td>[7, 7, 7, 7, 7, 7, 7, 7, 7, 7, 7, 7, 7, 7, 7]</td>\n",
       "      <td>[4, 4, 6, 3, 0, 0, 5, 3, 3, 6, 1, 2, 5, 6, 2]</td>\n",
       "    </tr>\n",
       "    <tr>\n",
       "      <th>...</th>\n",
       "      <td>...</td>\n",
       "      <td>...</td>\n",
       "      <td>...</td>\n",
       "      <td>...</td>\n",
       "      <td>...</td>\n",
       "      <td>...</td>\n",
       "      <td>...</td>\n",
       "      <td>...</td>\n",
       "      <td>...</td>\n",
       "      <td>...</td>\n",
       "    </tr>\n",
       "    <tr>\n",
       "      <th>999995</th>\n",
       "      <td>-23.376852</td>\n",
       "      <td>33.373994</td>\n",
       "      <td>8f97200cc024c1c</td>\n",
       "      <td>8097fffffffffff</td>\n",
       "      <td>(000010001111, 1001011, 1001000000000110011000...</td>\n",
       "      <td>(000010000000, 1001011, 1111111111111111111111...</td>\n",
       "      <td>center_face</td>\n",
       "      <td>center_face</td>\n",
       "      <td>[7, 7, 7, 7, 7, 7, 7, 7, 7, 7, 7, 7, 7, 7, 7]</td>\n",
       "      <td>[4, 4, 0, 0, 3, 1, 4, 0, 0, 4, 4, 6, 0, 3, 4]</td>\n",
       "    </tr>\n",
       "    <tr>\n",
       "      <th>999996</th>\n",
       "      <td>-11.223385</td>\n",
       "      <td>142.902311</td>\n",
       "      <td>8f9cf58722f5899</td>\n",
       "      <td>809dfffffffffff</td>\n",
       "      <td>(000010001111, 1001110, 0111101011000011100100...</td>\n",
       "      <td>(000010000000, 1001110, 1111111111111111111111...</td>\n",
       "      <td>divided_faces</td>\n",
       "      <td>divided_faces</td>\n",
       "      <td>[7, 7, 7, 7, 7, 7, 7, 7, 7, 7, 7, 7, 7, 7, 7]</td>\n",
       "      <td>[3, 6, 5, 4, 1, 6, 2, 1, 3, 6, 5, 4, 2, 3, 1]</td>\n",
       "    </tr>\n",
       "    <tr>\n",
       "      <th>999997</th>\n",
       "      <td>5.514285</td>\n",
       "      <td>64.054196</td>\n",
       "      <td>8f62ce6ed66828d</td>\n",
       "      <td>8063fffffffffff</td>\n",
       "      <td>(000010001111, 0110001, 0110011100110111011010...</td>\n",
       "      <td>(000010000000, 0110001, 1111111111111111111111...</td>\n",
       "      <td>vertice</td>\n",
       "      <td>vertice</td>\n",
       "      <td>[7, 7, 7, 7, 7, 7, 7, 7, 7, 7, 7, 7, 7, 7, 7]</td>\n",
       "      <td>[3, 1, 6, 3, 3, 5, 5, 3, 1, 5, 0, 1, 2, 1, 5]</td>\n",
       "    </tr>\n",
       "    <tr>\n",
       "      <th>999998</th>\n",
       "      <td>17.654533</td>\n",
       "      <td>144.184006</td>\n",
       "      <td>8f4e63009c29386</td>\n",
       "      <td>804ffffffffffff</td>\n",
       "      <td>(000010001111, 0100111, 0011000110000000010011...</td>\n",
       "      <td>(000010000000, 0100111, 1111111111111111111111...</td>\n",
       "      <td>divided_faces</td>\n",
       "      <td>divided_faces</td>\n",
       "      <td>[7, 7, 7, 7, 7, 7, 7, 7, 7, 7, 7, 7, 7, 7, 7]</td>\n",
       "      <td>[1, 4, 3, 0, 0, 1, 1, 6, 0, 5, 1, 1, 6, 0, 6]</td>\n",
       "    </tr>\n",
       "    <tr>\n",
       "      <th>999999</th>\n",
       "      <td>-38.311013</td>\n",
       "      <td>-110.175974</td>\n",
       "      <td>8fd2edcc6a5e088</td>\n",
       "      <td>80d3fffffffffff</td>\n",
       "      <td>(000010001111, 1101001, 0111011011100110001101...</td>\n",
       "      <td>(000010000000, 1101001, 1111111111111111111111...</td>\n",
       "      <td>center_face</td>\n",
       "      <td>center_face</td>\n",
       "      <td>[7, 7, 7, 7, 7, 7, 7, 7, 7, 7, 7, 7, 7, 7, 7]</td>\n",
       "      <td>[3, 5, 5, 6, 3, 0, 6, 5, 1, 3, 6, 0, 2, 1, 0]</td>\n",
       "    </tr>\n",
       "  </tbody>\n",
       "</table>\n",
       "<p>1000000 rows × 10 columns</p>\n",
       "</div>"
      ],
      "text/plain": [
       "         latitude   longitude      cell_id_r15      cell_id_r00  \\\n",
       "0       38.155866  -90.313939  8f26404dc281870  8027fffffffffff   \n",
       "1       42.092960    1.415996  8f39626c1c72196  8039fffffffffff   \n",
       "2       11.003787  -78.400307  8f6789915af5a2d  8067fffffffffff   \n",
       "3       45.393235   -2.041894  8f184c50c3b60b6  8019fffffffffff   \n",
       "4      -23.640898  -13.011441  8fc1266056f1572  80c1fffffffffff   \n",
       "...           ...         ...              ...              ...   \n",
       "999995 -23.376852   33.373994  8f97200cc024c1c  8097fffffffffff   \n",
       "999996 -11.223385  142.902311  8f9cf58722f5899  809dfffffffffff   \n",
       "999997   5.514285   64.054196  8f62ce6ed66828d  8063fffffffffff   \n",
       "999998  17.654533  144.184006  8f4e63009c29386  804ffffffffffff   \n",
       "999999 -38.311013 -110.175974  8fd2edcc6a5e088  80d3fffffffffff   \n",
       "\n",
       "                                        bit_structure_r15  \\\n",
       "0       (000010001111, 0010011, 0010000000100110111000...   \n",
       "1       (000010001111, 0011100, 1011000100110110000011...   \n",
       "2       (000010001111, 0110011, 1100010011001000101011...   \n",
       "3       (000010001111, 0001100, 0010011000101000011000...   \n",
       "4       (000010001111, 1100000, 1001001100110000001010...   \n",
       "...                                                   ...   \n",
       "999995  (000010001111, 1001011, 1001000000000110011000...   \n",
       "999996  (000010001111, 1001110, 0111101011000011100100...   \n",
       "999997  (000010001111, 0110001, 0110011100110111011010...   \n",
       "999998  (000010001111, 0100111, 0011000110000000010011...   \n",
       "999999  (000010001111, 1101001, 0111011011100110001101...   \n",
       "\n",
       "                                        bit_structure_r00  face_type_r00  \\\n",
       "0       (000010000000, 0010011, 1111111111111111111111...  divided_faces   \n",
       "1       (000010000000, 0011100, 1111111111111111111111...  divided_faces   \n",
       "2       (000010000000, 0110011, 1111111111111111111111...    single_face   \n",
       "3       (000010000000, 0001100, 1111111111111111111111...    single_face   \n",
       "4       (000010000000, 1100000, 1111111111111111111111...    center_face   \n",
       "...                                                   ...            ...   \n",
       "999995  (000010000000, 1001011, 1111111111111111111111...    center_face   \n",
       "999996  (000010000000, 1001110, 1111111111111111111111...  divided_faces   \n",
       "999997  (000010000000, 0110001, 1111111111111111111111...        vertice   \n",
       "999998  (000010000000, 0100111, 1111111111111111111111...  divided_faces   \n",
       "999999  (000010000000, 1101001, 1111111111111111111111...    center_face   \n",
       "\n",
       "        face_type_r15                       cell_hierarchy_index_r00  \\\n",
       "0       divided_faces  [7, 7, 7, 7, 7, 7, 7, 7, 7, 7, 7, 7, 7, 7, 7]   \n",
       "1       divided_faces  [7, 7, 7, 7, 7, 7, 7, 7, 7, 7, 7, 7, 7, 7, 7]   \n",
       "2         single_face  [7, 7, 7, 7, 7, 7, 7, 7, 7, 7, 7, 7, 7, 7, 7]   \n",
       "3         single_face  [7, 7, 7, 7, 7, 7, 7, 7, 7, 7, 7, 7, 7, 7, 7]   \n",
       "4         center_face  [7, 7, 7, 7, 7, 7, 7, 7, 7, 7, 7, 7, 7, 7, 7]   \n",
       "...               ...                                            ...   \n",
       "999995    center_face  [7, 7, 7, 7, 7, 7, 7, 7, 7, 7, 7, 7, 7, 7, 7]   \n",
       "999996  divided_faces  [7, 7, 7, 7, 7, 7, 7, 7, 7, 7, 7, 7, 7, 7, 7]   \n",
       "999997        vertice  [7, 7, 7, 7, 7, 7, 7, 7, 7, 7, 7, 7, 7, 7, 7]   \n",
       "999998  divided_faces  [7, 7, 7, 7, 7, 7, 7, 7, 7, 7, 7, 7, 7, 7, 7]   \n",
       "999999    center_face  [7, 7, 7, 7, 7, 7, 7, 7, 7, 7, 7, 7, 7, 7, 7]   \n",
       "\n",
       "                             cell_hierarchy_index_r15  \n",
       "0       [1, 0, 0, 2, 3, 3, 4, 1, 2, 0, 1, 4, 1, 6, 0]  \n",
       "1       [5, 4, 2, 3, 3, 0, 1, 6, 1, 6, 2, 0, 6, 2, 6]  \n",
       "2       [6, 1, 1, 4, 4, 2, 5, 5, 3, 6, 5, 5, 0, 5, 5]  \n",
       "3       [1, 1, 4, 2, 4, 1, 4, 1, 6, 6, 6, 0, 2, 6, 6]  \n",
       "4       [4, 4, 6, 3, 0, 0, 5, 3, 3, 6, 1, 2, 5, 6, 2]  \n",
       "...                                               ...  \n",
       "999995  [4, 4, 0, 0, 3, 1, 4, 0, 0, 4, 4, 6, 0, 3, 4]  \n",
       "999996  [3, 6, 5, 4, 1, 6, 2, 1, 3, 6, 5, 4, 2, 3, 1]  \n",
       "999997  [3, 1, 6, 3, 3, 5, 5, 3, 1, 5, 0, 1, 2, 1, 5]  \n",
       "999998  [1, 4, 3, 0, 0, 1, 1, 6, 0, 5, 1, 1, 6, 0, 6]  \n",
       "999999  [3, 5, 5, 6, 3, 0, 6, 5, 1, 3, 6, 0, 2, 1, 0]  \n",
       "\n",
       "[1000000 rows x 10 columns]"
      ]
     },
     "execution_count": 168,
     "metadata": {},
     "output_type": "execute_result"
    }
   ],
   "source": [
    "df_randpoints"
   ]
  },
  {
   "cell_type": "code",
   "execution_count": 182,
   "metadata": {},
   "outputs": [
    {
     "data": {
      "text/plain": [
       "(1000000, 32)"
      ]
     },
     "execution_count": 182,
     "metadata": {},
     "output_type": "execute_result"
    }
   ],
   "source": [
    "pattern_ = sklearn.metrics.pairwise.linear_kernel(\n",
    "    lat_lng_to_array((df_randpoints['latitude'], df_randpoints['longitude'])).T,\n",
    "    reference_points\n",
    ")\n",
    "pattern_.shape"
   ]
  },
  {
   "cell_type": "code",
   "execution_count": 183,
   "metadata": {},
   "outputs": [],
   "source": [
    "pattern_sorted = pattern_[:, :12].copy()\n",
    "pattern_sorted.sort(axis=1)"
   ]
  },
  {
   "cell_type": "code",
   "execution_count": 187,
   "metadata": {},
   "outputs": [
    {
     "data": {
      "text/plain": [
       "array([-0.91029342, -0.77635192, -0.54711685, -0.4952873 , -0.12437716,\n",
       "       -0.09234474,  0.09234474,  0.12437716,  0.4952873 ,  0.54711685,\n",
       "        0.77635192,  0.91029342])"
      ]
     },
     "execution_count": 187,
     "metadata": {},
     "output_type": "execute_result"
    }
   ],
   "source": [
    "pattern_sorted[0]"
   ]
  },
  {
   "cell_type": "code",
   "execution_count": 201,
   "metadata": {},
   "outputs": [],
   "source": [
    "df_randpoints.drop([x for x in df_randpoints.columns if x.startswith('features')], axis=1, inplace=True)"
   ]
  },
  {
   "cell_type": "code",
   "execution_count": 202,
   "metadata": {},
   "outputs": [],
   "source": [
    "for i in range(1, 4):\n",
    "    df_randpoints[f'features_{i}'] = [x[-i] for x in pattern_sorted]\n",
    "df_randpoints['class_'] = df_randpoints.apply(\n",
    "    lambda row: (\n",
    "        row['bit_structure_r15'][1] == row['bit_structure_r00'][1],\n",
    "        row['face_type_r00'],\n",
    "        row['face_type_r00'],\n",
    "    ),\n",
    "    axis=1\n",
    ")"
   ]
  },
  {
   "cell_type": "code",
   "execution_count": 203,
   "metadata": {},
   "outputs": [
    {
     "data": {
      "text/html": [
       "<div>\n",
       "<style scoped>\n",
       "    .dataframe tbody tr th:only-of-type {\n",
       "        vertical-align: middle;\n",
       "    }\n",
       "\n",
       "    .dataframe tbody tr th {\n",
       "        vertical-align: top;\n",
       "    }\n",
       "\n",
       "    .dataframe thead th {\n",
       "        text-align: right;\n",
       "    }\n",
       "</style>\n",
       "<table border=\"1\" class=\"dataframe\">\n",
       "  <thead>\n",
       "    <tr style=\"text-align: right;\">\n",
       "      <th></th>\n",
       "      <th>class_</th>\n",
       "      <th>features_1</th>\n",
       "      <th>features_2</th>\n",
       "      <th>features_3</th>\n",
       "    </tr>\n",
       "  </thead>\n",
       "  <tbody>\n",
       "    <tr>\n",
       "      <th>0</th>\n",
       "      <td>(True, divided_faces, divided_faces)</td>\n",
       "      <td>0.910293</td>\n",
       "      <td>0.776352</td>\n",
       "      <td>0.547117</td>\n",
       "    </tr>\n",
       "    <tr>\n",
       "      <th>1</th>\n",
       "      <td>(True, divided_faces, divided_faces)</td>\n",
       "      <td>0.919154</td>\n",
       "      <td>0.763366</td>\n",
       "      <td>0.521762</td>\n",
       "    </tr>\n",
       "    <tr>\n",
       "      <th>2</th>\n",
       "      <td>(True, single_face, single_face)</td>\n",
       "      <td>0.958157</td>\n",
       "      <td>0.666295</td>\n",
       "      <td>0.592220</td>\n",
       "    </tr>\n",
       "    <tr>\n",
       "      <th>3</th>\n",
       "      <td>(True, single_face, single_face)</td>\n",
       "      <td>0.936559</td>\n",
       "      <td>0.729157</td>\n",
       "      <td>0.557159</td>\n",
       "    </tr>\n",
       "    <tr>\n",
       "      <th>4</th>\n",
       "      <td>(True, center_face, center_face)</td>\n",
       "      <td>0.890844</td>\n",
       "      <td>0.758323</td>\n",
       "      <td>0.688994</td>\n",
       "    </tr>\n",
       "    <tr>\n",
       "      <th>...</th>\n",
       "      <td>...</td>\n",
       "      <td>...</td>\n",
       "      <td>...</td>\n",
       "      <td>...</td>\n",
       "    </tr>\n",
       "    <tr>\n",
       "      <th>999995</th>\n",
       "      <td>(True, center_face, center_face)</td>\n",
       "      <td>0.892277</td>\n",
       "      <td>0.747608</td>\n",
       "      <td>0.700668</td>\n",
       "    </tr>\n",
       "    <tr>\n",
       "      <th>999996</th>\n",
       "      <td>(True, divided_faces, divided_faces)</td>\n",
       "      <td>0.855732</td>\n",
       "      <td>0.840309</td>\n",
       "      <td>0.589771</td>\n",
       "    </tr>\n",
       "    <tr>\n",
       "      <th>999997</th>\n",
       "      <td>(True, vertice, vertice)</td>\n",
       "      <td>0.991117</td>\n",
       "      <td>0.561450</td>\n",
       "      <td>0.492410</td>\n",
       "    </tr>\n",
       "    <tr>\n",
       "      <th>999998</th>\n",
       "      <td>(True, divided_faces, divided_faces)</td>\n",
       "      <td>0.877478</td>\n",
       "      <td>0.807615</td>\n",
       "      <td>0.623327</td>\n",
       "    </tr>\n",
       "    <tr>\n",
       "      <th>999999</th>\n",
       "      <td>(True, center_face, center_face)</td>\n",
       "      <td>0.868121</td>\n",
       "      <td>0.761871</td>\n",
       "      <td>0.731729</td>\n",
       "    </tr>\n",
       "  </tbody>\n",
       "</table>\n",
       "<p>1000000 rows × 4 columns</p>\n",
       "</div>"
      ],
      "text/plain": [
       "                                      class_  features_1  features_2  \\\n",
       "0       (True, divided_faces, divided_faces)    0.910293    0.776352   \n",
       "1       (True, divided_faces, divided_faces)    0.919154    0.763366   \n",
       "2           (True, single_face, single_face)    0.958157    0.666295   \n",
       "3           (True, single_face, single_face)    0.936559    0.729157   \n",
       "4           (True, center_face, center_face)    0.890844    0.758323   \n",
       "...                                      ...         ...         ...   \n",
       "999995      (True, center_face, center_face)    0.892277    0.747608   \n",
       "999996  (True, divided_faces, divided_faces)    0.855732    0.840309   \n",
       "999997              (True, vertice, vertice)    0.991117    0.561450   \n",
       "999998  (True, divided_faces, divided_faces)    0.877478    0.807615   \n",
       "999999      (True, center_face, center_face)    0.868121    0.761871   \n",
       "\n",
       "        features_3  \n",
       "0         0.547117  \n",
       "1         0.521762  \n",
       "2         0.592220  \n",
       "3         0.557159  \n",
       "4         0.688994  \n",
       "...            ...  \n",
       "999995    0.700668  \n",
       "999996    0.589771  \n",
       "999997    0.492410  \n",
       "999998    0.623327  \n",
       "999999    0.731729  \n",
       "\n",
       "[1000000 rows x 4 columns]"
      ]
     },
     "execution_count": 203,
     "metadata": {},
     "output_type": "execute_result"
    }
   ],
   "source": [
    "df_randpoints.filter(regex='features_|class_')"
   ]
  },
  {
   "cell_type": "code",
   "execution_count": 204,
   "metadata": {},
   "outputs": [
    {
     "data": {
      "text/plain": [
       "(True, single_face, single_face)         0.452615\n",
       "(True, divided_faces, divided_faces)     0.243806\n",
       "(True, center_face, center_face)         0.182867\n",
       "(True, vertice, vertice)                 0.055769\n",
       "(False, single_face, single_face)        0.031001\n",
       "(False, divided_faces, divided_faces)    0.017232\n",
       "(False, center_face, center_face)        0.012523\n",
       "(False, vertice, vertice)                0.004187\n",
       "Name: class_, dtype: float64"
      ]
     },
     "execution_count": 204,
     "metadata": {},
     "output_type": "execute_result"
    }
   ],
   "source": [
    "df_randpoints['class_'].value_counts(normalize=True)"
   ]
  },
  {
   "cell_type": "code",
   "execution_count": 216,
   "metadata": {},
   "outputs": [
    {
     "data": {
      "text/html": [
       "<div>\n",
       "<style scoped>\n",
       "    .dataframe tbody tr th:only-of-type {\n",
       "        vertical-align: middle;\n",
       "    }\n",
       "\n",
       "    .dataframe tbody tr th {\n",
       "        vertical-align: top;\n",
       "    }\n",
       "\n",
       "    .dataframe thead th {\n",
       "        text-align: right;\n",
       "    }\n",
       "</style>\n",
       "<table border=\"1\" class=\"dataframe\">\n",
       "  <thead>\n",
       "    <tr style=\"text-align: right;\">\n",
       "      <th></th>\n",
       "      <th>latitude</th>\n",
       "      <th>longitude</th>\n",
       "      <th>cell_id_r15</th>\n",
       "      <th>cell_id_r00</th>\n",
       "      <th>bit_structure_r15</th>\n",
       "      <th>bit_structure_r00</th>\n",
       "      <th>face_type_r00</th>\n",
       "      <th>face_type_r15</th>\n",
       "      <th>cell_hierarchy_index_r00</th>\n",
       "      <th>cell_hierarchy_index_r15</th>\n",
       "      <th>class_</th>\n",
       "      <th>features_1</th>\n",
       "      <th>features_2</th>\n",
       "      <th>features_3</th>\n",
       "    </tr>\n",
       "  </thead>\n",
       "  <tbody>\n",
       "    <tr>\n",
       "      <th>0</th>\n",
       "      <td>38.155866</td>\n",
       "      <td>-90.313939</td>\n",
       "      <td>8f26404dc281870</td>\n",
       "      <td>8027fffffffffff</td>\n",
       "      <td>(000010001111, 0010011, 0010000000100110111000...</td>\n",
       "      <td>(000010000000, 0010011, 1111111111111111111111...</td>\n",
       "      <td>divided_faces</td>\n",
       "      <td>divided_faces</td>\n",
       "      <td>[7, 7, 7, 7, 7, 7, 7, 7, 7, 7, 7, 7, 7, 7, 7]</td>\n",
       "      <td>[1, 0, 0, 2, 3, 3, 4, 1, 2, 0, 1, 4, 1, 6, 0]</td>\n",
       "      <td>(True, divided_faces, divided_faces)</td>\n",
       "      <td>0.910293</td>\n",
       "      <td>0.776352</td>\n",
       "      <td>0.547117</td>\n",
       "    </tr>\n",
       "    <tr>\n",
       "      <th>1</th>\n",
       "      <td>42.092960</td>\n",
       "      <td>1.415996</td>\n",
       "      <td>8f39626c1c72196</td>\n",
       "      <td>8039fffffffffff</td>\n",
       "      <td>(000010001111, 0011100, 1011000100110110000011...</td>\n",
       "      <td>(000010000000, 0011100, 1111111111111111111111...</td>\n",
       "      <td>divided_faces</td>\n",
       "      <td>divided_faces</td>\n",
       "      <td>[7, 7, 7, 7, 7, 7, 7, 7, 7, 7, 7, 7, 7, 7, 7]</td>\n",
       "      <td>[5, 4, 2, 3, 3, 0, 1, 6, 1, 6, 2, 0, 6, 2, 6]</td>\n",
       "      <td>(True, divided_faces, divided_faces)</td>\n",
       "      <td>0.919154</td>\n",
       "      <td>0.763366</td>\n",
       "      <td>0.521762</td>\n",
       "    </tr>\n",
       "    <tr>\n",
       "      <th>2</th>\n",
       "      <td>11.003787</td>\n",
       "      <td>-78.400307</td>\n",
       "      <td>8f6789915af5a2d</td>\n",
       "      <td>8067fffffffffff</td>\n",
       "      <td>(000010001111, 0110011, 1100010011001000101011...</td>\n",
       "      <td>(000010000000, 0110011, 1111111111111111111111...</td>\n",
       "      <td>single_face</td>\n",
       "      <td>single_face</td>\n",
       "      <td>[7, 7, 7, 7, 7, 7, 7, 7, 7, 7, 7, 7, 7, 7, 7]</td>\n",
       "      <td>[6, 1, 1, 4, 4, 2, 5, 5, 3, 6, 5, 5, 0, 5, 5]</td>\n",
       "      <td>(True, single_face, single_face)</td>\n",
       "      <td>0.958157</td>\n",
       "      <td>0.666295</td>\n",
       "      <td>0.592220</td>\n",
       "    </tr>\n",
       "    <tr>\n",
       "      <th>3</th>\n",
       "      <td>45.393235</td>\n",
       "      <td>-2.041894</td>\n",
       "      <td>8f184c50c3b60b6</td>\n",
       "      <td>8019fffffffffff</td>\n",
       "      <td>(000010001111, 0001100, 0010011000101000011000...</td>\n",
       "      <td>(000010000000, 0001100, 1111111111111111111111...</td>\n",
       "      <td>single_face</td>\n",
       "      <td>single_face</td>\n",
       "      <td>[7, 7, 7, 7, 7, 7, 7, 7, 7, 7, 7, 7, 7, 7, 7]</td>\n",
       "      <td>[1, 1, 4, 2, 4, 1, 4, 1, 6, 6, 6, 0, 2, 6, 6]</td>\n",
       "      <td>(True, single_face, single_face)</td>\n",
       "      <td>0.936559</td>\n",
       "      <td>0.729157</td>\n",
       "      <td>0.557159</td>\n",
       "    </tr>\n",
       "    <tr>\n",
       "      <th>4</th>\n",
       "      <td>-23.640898</td>\n",
       "      <td>-13.011441</td>\n",
       "      <td>8fc1266056f1572</td>\n",
       "      <td>80c1fffffffffff</td>\n",
       "      <td>(000010001111, 1100000, 1001001100110000001010...</td>\n",
       "      <td>(000010000000, 1100000, 1111111111111111111111...</td>\n",
       "      <td>center_face</td>\n",
       "      <td>center_face</td>\n",
       "      <td>[7, 7, 7, 7, 7, 7, 7, 7, 7, 7, 7, 7, 7, 7, 7]</td>\n",
       "      <td>[4, 4, 6, 3, 0, 0, 5, 3, 3, 6, 1, 2, 5, 6, 2]</td>\n",
       "      <td>(True, center_face, center_face)</td>\n",
       "      <td>0.890844</td>\n",
       "      <td>0.758323</td>\n",
       "      <td>0.688994</td>\n",
       "    </tr>\n",
       "    <tr>\n",
       "      <th>...</th>\n",
       "      <td>...</td>\n",
       "      <td>...</td>\n",
       "      <td>...</td>\n",
       "      <td>...</td>\n",
       "      <td>...</td>\n",
       "      <td>...</td>\n",
       "      <td>...</td>\n",
       "      <td>...</td>\n",
       "      <td>...</td>\n",
       "      <td>...</td>\n",
       "      <td>...</td>\n",
       "      <td>...</td>\n",
       "      <td>...</td>\n",
       "      <td>...</td>\n",
       "    </tr>\n",
       "    <tr>\n",
       "      <th>999995</th>\n",
       "      <td>-23.376852</td>\n",
       "      <td>33.373994</td>\n",
       "      <td>8f97200cc024c1c</td>\n",
       "      <td>8097fffffffffff</td>\n",
       "      <td>(000010001111, 1001011, 1001000000000110011000...</td>\n",
       "      <td>(000010000000, 1001011, 1111111111111111111111...</td>\n",
       "      <td>center_face</td>\n",
       "      <td>center_face</td>\n",
       "      <td>[7, 7, 7, 7, 7, 7, 7, 7, 7, 7, 7, 7, 7, 7, 7]</td>\n",
       "      <td>[4, 4, 0, 0, 3, 1, 4, 0, 0, 4, 4, 6, 0, 3, 4]</td>\n",
       "      <td>(True, center_face, center_face)</td>\n",
       "      <td>0.892277</td>\n",
       "      <td>0.747608</td>\n",
       "      <td>0.700668</td>\n",
       "    </tr>\n",
       "    <tr>\n",
       "      <th>999996</th>\n",
       "      <td>-11.223385</td>\n",
       "      <td>142.902311</td>\n",
       "      <td>8f9cf58722f5899</td>\n",
       "      <td>809dfffffffffff</td>\n",
       "      <td>(000010001111, 1001110, 0111101011000011100100...</td>\n",
       "      <td>(000010000000, 1001110, 1111111111111111111111...</td>\n",
       "      <td>divided_faces</td>\n",
       "      <td>divided_faces</td>\n",
       "      <td>[7, 7, 7, 7, 7, 7, 7, 7, 7, 7, 7, 7, 7, 7, 7]</td>\n",
       "      <td>[3, 6, 5, 4, 1, 6, 2, 1, 3, 6, 5, 4, 2, 3, 1]</td>\n",
       "      <td>(True, divided_faces, divided_faces)</td>\n",
       "      <td>0.855732</td>\n",
       "      <td>0.840309</td>\n",
       "      <td>0.589771</td>\n",
       "    </tr>\n",
       "    <tr>\n",
       "      <th>999997</th>\n",
       "      <td>5.514285</td>\n",
       "      <td>64.054196</td>\n",
       "      <td>8f62ce6ed66828d</td>\n",
       "      <td>8063fffffffffff</td>\n",
       "      <td>(000010001111, 0110001, 0110011100110111011010...</td>\n",
       "      <td>(000010000000, 0110001, 1111111111111111111111...</td>\n",
       "      <td>vertice</td>\n",
       "      <td>vertice</td>\n",
       "      <td>[7, 7, 7, 7, 7, 7, 7, 7, 7, 7, 7, 7, 7, 7, 7]</td>\n",
       "      <td>[3, 1, 6, 3, 3, 5, 5, 3, 1, 5, 0, 1, 2, 1, 5]</td>\n",
       "      <td>(True, vertice, vertice)</td>\n",
       "      <td>0.991117</td>\n",
       "      <td>0.561450</td>\n",
       "      <td>0.492410</td>\n",
       "    </tr>\n",
       "    <tr>\n",
       "      <th>999998</th>\n",
       "      <td>17.654533</td>\n",
       "      <td>144.184006</td>\n",
       "      <td>8f4e63009c29386</td>\n",
       "      <td>804ffffffffffff</td>\n",
       "      <td>(000010001111, 0100111, 0011000110000000010011...</td>\n",
       "      <td>(000010000000, 0100111, 1111111111111111111111...</td>\n",
       "      <td>divided_faces</td>\n",
       "      <td>divided_faces</td>\n",
       "      <td>[7, 7, 7, 7, 7, 7, 7, 7, 7, 7, 7, 7, 7, 7, 7]</td>\n",
       "      <td>[1, 4, 3, 0, 0, 1, 1, 6, 0, 5, 1, 1, 6, 0, 6]</td>\n",
       "      <td>(True, divided_faces, divided_faces)</td>\n",
       "      <td>0.877478</td>\n",
       "      <td>0.807615</td>\n",
       "      <td>0.623327</td>\n",
       "    </tr>\n",
       "    <tr>\n",
       "      <th>999999</th>\n",
       "      <td>-38.311013</td>\n",
       "      <td>-110.175974</td>\n",
       "      <td>8fd2edcc6a5e088</td>\n",
       "      <td>80d3fffffffffff</td>\n",
       "      <td>(000010001111, 1101001, 0111011011100110001101...</td>\n",
       "      <td>(000010000000, 1101001, 1111111111111111111111...</td>\n",
       "      <td>center_face</td>\n",
       "      <td>center_face</td>\n",
       "      <td>[7, 7, 7, 7, 7, 7, 7, 7, 7, 7, 7, 7, 7, 7, 7]</td>\n",
       "      <td>[3, 5, 5, 6, 3, 0, 6, 5, 1, 3, 6, 0, 2, 1, 0]</td>\n",
       "      <td>(True, center_face, center_face)</td>\n",
       "      <td>0.868121</td>\n",
       "      <td>0.761871</td>\n",
       "      <td>0.731729</td>\n",
       "    </tr>\n",
       "  </tbody>\n",
       "</table>\n",
       "<p>1000000 rows × 14 columns</p>\n",
       "</div>"
      ],
      "text/plain": [
       "         latitude   longitude      cell_id_r15      cell_id_r00  \\\n",
       "0       38.155866  -90.313939  8f26404dc281870  8027fffffffffff   \n",
       "1       42.092960    1.415996  8f39626c1c72196  8039fffffffffff   \n",
       "2       11.003787  -78.400307  8f6789915af5a2d  8067fffffffffff   \n",
       "3       45.393235   -2.041894  8f184c50c3b60b6  8019fffffffffff   \n",
       "4      -23.640898  -13.011441  8fc1266056f1572  80c1fffffffffff   \n",
       "...           ...         ...              ...              ...   \n",
       "999995 -23.376852   33.373994  8f97200cc024c1c  8097fffffffffff   \n",
       "999996 -11.223385  142.902311  8f9cf58722f5899  809dfffffffffff   \n",
       "999997   5.514285   64.054196  8f62ce6ed66828d  8063fffffffffff   \n",
       "999998  17.654533  144.184006  8f4e63009c29386  804ffffffffffff   \n",
       "999999 -38.311013 -110.175974  8fd2edcc6a5e088  80d3fffffffffff   \n",
       "\n",
       "                                        bit_structure_r15  \\\n",
       "0       (000010001111, 0010011, 0010000000100110111000...   \n",
       "1       (000010001111, 0011100, 1011000100110110000011...   \n",
       "2       (000010001111, 0110011, 1100010011001000101011...   \n",
       "3       (000010001111, 0001100, 0010011000101000011000...   \n",
       "4       (000010001111, 1100000, 1001001100110000001010...   \n",
       "...                                                   ...   \n",
       "999995  (000010001111, 1001011, 1001000000000110011000...   \n",
       "999996  (000010001111, 1001110, 0111101011000011100100...   \n",
       "999997  (000010001111, 0110001, 0110011100110111011010...   \n",
       "999998  (000010001111, 0100111, 0011000110000000010011...   \n",
       "999999  (000010001111, 1101001, 0111011011100110001101...   \n",
       "\n",
       "                                        bit_structure_r00  face_type_r00  \\\n",
       "0       (000010000000, 0010011, 1111111111111111111111...  divided_faces   \n",
       "1       (000010000000, 0011100, 1111111111111111111111...  divided_faces   \n",
       "2       (000010000000, 0110011, 1111111111111111111111...    single_face   \n",
       "3       (000010000000, 0001100, 1111111111111111111111...    single_face   \n",
       "4       (000010000000, 1100000, 1111111111111111111111...    center_face   \n",
       "...                                                   ...            ...   \n",
       "999995  (000010000000, 1001011, 1111111111111111111111...    center_face   \n",
       "999996  (000010000000, 1001110, 1111111111111111111111...  divided_faces   \n",
       "999997  (000010000000, 0110001, 1111111111111111111111...        vertice   \n",
       "999998  (000010000000, 0100111, 1111111111111111111111...  divided_faces   \n",
       "999999  (000010000000, 1101001, 1111111111111111111111...    center_face   \n",
       "\n",
       "        face_type_r15                       cell_hierarchy_index_r00  \\\n",
       "0       divided_faces  [7, 7, 7, 7, 7, 7, 7, 7, 7, 7, 7, 7, 7, 7, 7]   \n",
       "1       divided_faces  [7, 7, 7, 7, 7, 7, 7, 7, 7, 7, 7, 7, 7, 7, 7]   \n",
       "2         single_face  [7, 7, 7, 7, 7, 7, 7, 7, 7, 7, 7, 7, 7, 7, 7]   \n",
       "3         single_face  [7, 7, 7, 7, 7, 7, 7, 7, 7, 7, 7, 7, 7, 7, 7]   \n",
       "4         center_face  [7, 7, 7, 7, 7, 7, 7, 7, 7, 7, 7, 7, 7, 7, 7]   \n",
       "...               ...                                            ...   \n",
       "999995    center_face  [7, 7, 7, 7, 7, 7, 7, 7, 7, 7, 7, 7, 7, 7, 7]   \n",
       "999996  divided_faces  [7, 7, 7, 7, 7, 7, 7, 7, 7, 7, 7, 7, 7, 7, 7]   \n",
       "999997        vertice  [7, 7, 7, 7, 7, 7, 7, 7, 7, 7, 7, 7, 7, 7, 7]   \n",
       "999998  divided_faces  [7, 7, 7, 7, 7, 7, 7, 7, 7, 7, 7, 7, 7, 7, 7]   \n",
       "999999    center_face  [7, 7, 7, 7, 7, 7, 7, 7, 7, 7, 7, 7, 7, 7, 7]   \n",
       "\n",
       "                             cell_hierarchy_index_r15  \\\n",
       "0       [1, 0, 0, 2, 3, 3, 4, 1, 2, 0, 1, 4, 1, 6, 0]   \n",
       "1       [5, 4, 2, 3, 3, 0, 1, 6, 1, 6, 2, 0, 6, 2, 6]   \n",
       "2       [6, 1, 1, 4, 4, 2, 5, 5, 3, 6, 5, 5, 0, 5, 5]   \n",
       "3       [1, 1, 4, 2, 4, 1, 4, 1, 6, 6, 6, 0, 2, 6, 6]   \n",
       "4       [4, 4, 6, 3, 0, 0, 5, 3, 3, 6, 1, 2, 5, 6, 2]   \n",
       "...                                               ...   \n",
       "999995  [4, 4, 0, 0, 3, 1, 4, 0, 0, 4, 4, 6, 0, 3, 4]   \n",
       "999996  [3, 6, 5, 4, 1, 6, 2, 1, 3, 6, 5, 4, 2, 3, 1]   \n",
       "999997  [3, 1, 6, 3, 3, 5, 5, 3, 1, 5, 0, 1, 2, 1, 5]   \n",
       "999998  [1, 4, 3, 0, 0, 1, 1, 6, 0, 5, 1, 1, 6, 0, 6]   \n",
       "999999  [3, 5, 5, 6, 3, 0, 6, 5, 1, 3, 6, 0, 2, 1, 0]   \n",
       "\n",
       "                                      class_  features_1  features_2  \\\n",
       "0       (True, divided_faces, divided_faces)    0.910293    0.776352   \n",
       "1       (True, divided_faces, divided_faces)    0.919154    0.763366   \n",
       "2           (True, single_face, single_face)    0.958157    0.666295   \n",
       "3           (True, single_face, single_face)    0.936559    0.729157   \n",
       "4           (True, center_face, center_face)    0.890844    0.758323   \n",
       "...                                      ...         ...         ...   \n",
       "999995      (True, center_face, center_face)    0.892277    0.747608   \n",
       "999996  (True, divided_faces, divided_faces)    0.855732    0.840309   \n",
       "999997              (True, vertice, vertice)    0.991117    0.561450   \n",
       "999998  (True, divided_faces, divided_faces)    0.877478    0.807615   \n",
       "999999      (True, center_face, center_face)    0.868121    0.761871   \n",
       "\n",
       "        features_3  \n",
       "0         0.547117  \n",
       "1         0.521762  \n",
       "2         0.592220  \n",
       "3         0.557159  \n",
       "4         0.688994  \n",
       "...            ...  \n",
       "999995    0.700668  \n",
       "999996    0.589771  \n",
       "999997    0.492410  \n",
       "999998    0.623327  \n",
       "999999    0.731729  \n",
       "\n",
       "[1000000 rows x 14 columns]"
      ]
     },
     "execution_count": 216,
     "metadata": {},
     "output_type": "execute_result"
    }
   ],
   "source": [
    "df_randpoints"
   ]
  },
  {
   "cell_type": "code",
   "execution_count": 218,
   "metadata": {},
   "outputs": [
    {
     "data": {
      "text/plain": [
       "{'features_1': ['mean', 'std', 'min', 'max'],\n",
       " 'features_2': ['mean', 'std', 'min', 'max'],\n",
       " 'features_3': ['mean', 'std', 'min', 'max']}"
      ]
     },
     "execution_count": 218,
     "metadata": {},
     "output_type": "execute_result"
    }
   ],
   "source": [
    "{\n",
    "    x: ['mean', 'std', 'min', 'max'] for x in df_randpoints.columns if x.startswith('features_')\n",
    "}"
   ]
  },
  {
   "cell_type": "code",
   "execution_count": 219,
   "metadata": {},
   "outputs": [],
   "source": [
    "desc = df_randpoints.filter(regex='features_|class_').groupby('class_').agg({\n",
    "    x: ['mean', 'std', 'min', 'max'] for x in df_randpoints.columns if x.startswith('features_')\n",
    "})"
   ]
  },
  {
   "cell_type": "code",
   "execution_count": 220,
   "metadata": {},
   "outputs": [
    {
     "data": {
      "text/html": [
       "<div>\n",
       "<style scoped>\n",
       "    .dataframe tbody tr th:only-of-type {\n",
       "        vertical-align: middle;\n",
       "    }\n",
       "\n",
       "    .dataframe tbody tr th {\n",
       "        vertical-align: top;\n",
       "    }\n",
       "\n",
       "    .dataframe thead tr th {\n",
       "        text-align: left;\n",
       "    }\n",
       "\n",
       "    .dataframe thead tr:last-of-type th {\n",
       "        text-align: right;\n",
       "    }\n",
       "</style>\n",
       "<table border=\"1\" class=\"dataframe\">\n",
       "  <thead>\n",
       "    <tr>\n",
       "      <th></th>\n",
       "      <th colspan=\"4\" halign=\"left\">features_1</th>\n",
       "      <th colspan=\"4\" halign=\"left\">features_2</th>\n",
       "      <th colspan=\"4\" halign=\"left\">features_3</th>\n",
       "    </tr>\n",
       "    <tr>\n",
       "      <th></th>\n",
       "      <th>mean</th>\n",
       "      <th>std</th>\n",
       "      <th>min</th>\n",
       "      <th>max</th>\n",
       "      <th>mean</th>\n",
       "      <th>std</th>\n",
       "      <th>min</th>\n",
       "      <th>max</th>\n",
       "      <th>mean</th>\n",
       "      <th>std</th>\n",
       "      <th>min</th>\n",
       "      <th>max</th>\n",
       "    </tr>\n",
       "    <tr>\n",
       "      <th>class_</th>\n",
       "      <th></th>\n",
       "      <th></th>\n",
       "      <th></th>\n",
       "      <th></th>\n",
       "      <th></th>\n",
       "      <th></th>\n",
       "      <th></th>\n",
       "      <th></th>\n",
       "      <th></th>\n",
       "      <th></th>\n",
       "      <th></th>\n",
       "      <th></th>\n",
       "    </tr>\n",
       "  </thead>\n",
       "  <tbody>\n",
       "    <tr>\n",
       "      <th>(False, center_face, center_face)</th>\n",
       "      <td>0.873955</td>\n",
       "      <td>0.015586</td>\n",
       "      <td>0.838098</td>\n",
       "      <td>0.894423</td>\n",
       "      <td>0.781182</td>\n",
       "      <td>0.029861</td>\n",
       "      <td>0.723893</td>\n",
       "      <td>0.836815</td>\n",
       "      <td>0.688265</td>\n",
       "      <td>0.016719</td>\n",
       "      <td>0.662869</td>\n",
       "      <td>0.723425</td>\n",
       "    </tr>\n",
       "    <tr>\n",
       "      <th>(False, divided_faces, divided_faces)</th>\n",
       "      <td>0.896142</td>\n",
       "      <td>0.026880</td>\n",
       "      <td>0.837809</td>\n",
       "      <td>0.939104</td>\n",
       "      <td>0.779419</td>\n",
       "      <td>0.027513</td>\n",
       "      <td>0.727333</td>\n",
       "      <td>0.837270</td>\n",
       "      <td>0.612405</td>\n",
       "      <td>0.043863</td>\n",
       "      <td>0.515449</td>\n",
       "      <td>0.666659</td>\n",
       "    </tr>\n",
       "    <tr>\n",
       "      <th>(False, single_face, single_face)</th>\n",
       "      <td>0.939626</td>\n",
       "      <td>0.033371</td>\n",
       "      <td>0.889252</td>\n",
       "      <td>0.991272</td>\n",
       "      <td>0.694541</td>\n",
       "      <td>0.067744</td>\n",
       "      <td>0.539123</td>\n",
       "      <td>0.775919</td>\n",
       "      <td>0.578361</td>\n",
       "      <td>0.070830</td>\n",
       "      <td>0.486198</td>\n",
       "      <td>0.722748</td>\n",
       "    </tr>\n",
       "    <tr>\n",
       "      <th>(False, vertice, vertice)</th>\n",
       "      <td>0.991389</td>\n",
       "      <td>0.001134</td>\n",
       "      <td>0.986799</td>\n",
       "      <td>0.993385</td>\n",
       "      <td>0.554424</td>\n",
       "      <td>0.009194</td>\n",
       "      <td>0.538344</td>\n",
       "      <td>0.586161</td>\n",
       "      <td>0.510091</td>\n",
       "      <td>0.008945</td>\n",
       "      <td>0.486141</td>\n",
       "      <td>0.537507</td>\n",
       "    </tr>\n",
       "    <tr>\n",
       "      <th>(True, center_face, center_face)</th>\n",
       "      <td>0.851823</td>\n",
       "      <td>0.022595</td>\n",
       "      <td>0.794871</td>\n",
       "      <td>0.894416</td>\n",
       "      <td>0.787254</td>\n",
       "      <td>0.023210</td>\n",
       "      <td>0.723853</td>\n",
       "      <td>0.837366</td>\n",
       "      <td>0.722621</td>\n",
       "      <td>0.030391</td>\n",
       "      <td>0.662944</td>\n",
       "      <td>0.794350</td>\n",
       "    </tr>\n",
       "    <tr>\n",
       "      <th>(True, divided_faces, divided_faces)</th>\n",
       "      <td>0.884489</td>\n",
       "      <td>0.022879</td>\n",
       "      <td>0.837566</td>\n",
       "      <td>0.939150</td>\n",
       "      <td>0.802637</td>\n",
       "      <td>0.027935</td>\n",
       "      <td>0.727242</td>\n",
       "      <td>0.850640</td>\n",
       "      <td>0.586348</td>\n",
       "      <td>0.040124</td>\n",
       "      <td>0.515021</td>\n",
       "      <td>0.666662</td>\n",
       "    </tr>\n",
       "    <tr>\n",
       "      <th>(True, single_face, single_face)</th>\n",
       "      <td>0.948406</td>\n",
       "      <td>0.025384</td>\n",
       "      <td>0.889318</td>\n",
       "      <td>0.991289</td>\n",
       "      <td>0.675720</td>\n",
       "      <td>0.053018</td>\n",
       "      <td>0.538884</td>\n",
       "      <td>0.775875</td>\n",
       "      <td>0.594801</td>\n",
       "      <td>0.054468</td>\n",
       "      <td>0.486244</td>\n",
       "      <td>0.723503</td>\n",
       "    </tr>\n",
       "    <tr>\n",
       "      <th>(True, vertice, vertice)</th>\n",
       "      <td>0.995126</td>\n",
       "      <td>0.002992</td>\n",
       "      <td>0.986856</td>\n",
       "      <td>1.000000</td>\n",
       "      <td>0.523220</td>\n",
       "      <td>0.028581</td>\n",
       "      <td>0.447560</td>\n",
       "      <td>0.585877</td>\n",
       "      <td>0.490403</td>\n",
       "      <td>0.018391</td>\n",
       "      <td>0.447552</td>\n",
       "      <td>0.538284</td>\n",
       "    </tr>\n",
       "  </tbody>\n",
       "</table>\n",
       "</div>"
      ],
      "text/plain": [
       "                                      features_1                      \\\n",
       "                                            mean       std       min   \n",
       "class_                                                                 \n",
       "(False, center_face, center_face)       0.873955  0.015586  0.838098   \n",
       "(False, divided_faces, divided_faces)   0.896142  0.026880  0.837809   \n",
       "(False, single_face, single_face)       0.939626  0.033371  0.889252   \n",
       "(False, vertice, vertice)               0.991389  0.001134  0.986799   \n",
       "(True, center_face, center_face)        0.851823  0.022595  0.794871   \n",
       "(True, divided_faces, divided_faces)    0.884489  0.022879  0.837566   \n",
       "(True, single_face, single_face)        0.948406  0.025384  0.889318   \n",
       "(True, vertice, vertice)                0.995126  0.002992  0.986856   \n",
       "\n",
       "                                                features_2            \\\n",
       "                                            max       mean       std   \n",
       "class_                                                                 \n",
       "(False, center_face, center_face)      0.894423   0.781182  0.029861   \n",
       "(False, divided_faces, divided_faces)  0.939104   0.779419  0.027513   \n",
       "(False, single_face, single_face)      0.991272   0.694541  0.067744   \n",
       "(False, vertice, vertice)              0.993385   0.554424  0.009194   \n",
       "(True, center_face, center_face)       0.894416   0.787254  0.023210   \n",
       "(True, divided_faces, divided_faces)   0.939150   0.802637  0.027935   \n",
       "(True, single_face, single_face)       0.991289   0.675720  0.053018   \n",
       "(True, vertice, vertice)               1.000000   0.523220  0.028581   \n",
       "\n",
       "                                                          features_3  \\\n",
       "                                            min       max       mean   \n",
       "class_                                                                 \n",
       "(False, center_face, center_face)      0.723893  0.836815   0.688265   \n",
       "(False, divided_faces, divided_faces)  0.727333  0.837270   0.612405   \n",
       "(False, single_face, single_face)      0.539123  0.775919   0.578361   \n",
       "(False, vertice, vertice)              0.538344  0.586161   0.510091   \n",
       "(True, center_face, center_face)       0.723853  0.837366   0.722621   \n",
       "(True, divided_faces, divided_faces)   0.727242  0.850640   0.586348   \n",
       "(True, single_face, single_face)       0.538884  0.775875   0.594801   \n",
       "(True, vertice, vertice)               0.447560  0.585877   0.490403   \n",
       "\n",
       "                                                                     \n",
       "                                            std       min       max  \n",
       "class_                                                               \n",
       "(False, center_face, center_face)      0.016719  0.662869  0.723425  \n",
       "(False, divided_faces, divided_faces)  0.043863  0.515449  0.666659  \n",
       "(False, single_face, single_face)      0.070830  0.486198  0.722748  \n",
       "(False, vertice, vertice)              0.008945  0.486141  0.537507  \n",
       "(True, center_face, center_face)       0.030391  0.662944  0.794350  \n",
       "(True, divided_faces, divided_faces)   0.040124  0.515021  0.666662  \n",
       "(True, single_face, single_face)       0.054468  0.486244  0.723503  \n",
       "(True, vertice, vertice)               0.018391  0.447552  0.538284  "
      ]
     },
     "execution_count": 220,
     "metadata": {},
     "output_type": "execute_result"
    }
   ],
   "source": [
    "desc"
   ]
  },
  {
   "cell_type": "code",
   "execution_count": 223,
   "metadata": {},
   "outputs": [],
   "source": [
    "import sklearn.model_selection\n",
    "\n",
    "train, test = sklearn.model_selection.train_test_split(df_randpoints.filter(regex='features_|class_'))"
   ]
  },
  {
   "cell_type": "code",
   "execution_count": 227,
   "metadata": {},
   "outputs": [
    {
     "name": "stderr",
     "output_type": "stream",
     "text": [
      "/Users/tiagobbatalhao/.virtualenvs/DataScience/lib/python3.9/site-packages/sklearn/svm/_base.py:1244: ConvergenceWarning: Liblinear failed to converge, increase the number of iterations.\n",
      "  warnings.warn(\n"
     ]
    },
    {
     "data": {
      "text/html": [
       "<style>#sk-container-id-1 {color: black;background-color: white;}#sk-container-id-1 pre{padding: 0;}#sk-container-id-1 div.sk-toggleable {background-color: white;}#sk-container-id-1 label.sk-toggleable__label {cursor: pointer;display: block;width: 100%;margin-bottom: 0;padding: 0.3em;box-sizing: border-box;text-align: center;}#sk-container-id-1 label.sk-toggleable__label-arrow:before {content: \"▸\";float: left;margin-right: 0.25em;color: #696969;}#sk-container-id-1 label.sk-toggleable__label-arrow:hover:before {color: black;}#sk-container-id-1 div.sk-estimator:hover label.sk-toggleable__label-arrow:before {color: black;}#sk-container-id-1 div.sk-toggleable__content {max-height: 0;max-width: 0;overflow: hidden;text-align: left;background-color: #f0f8ff;}#sk-container-id-1 div.sk-toggleable__content pre {margin: 0.2em;color: black;border-radius: 0.25em;background-color: #f0f8ff;}#sk-container-id-1 input.sk-toggleable__control:checked~div.sk-toggleable__content {max-height: 200px;max-width: 100%;overflow: auto;}#sk-container-id-1 input.sk-toggleable__control:checked~label.sk-toggleable__label-arrow:before {content: \"▾\";}#sk-container-id-1 div.sk-estimator input.sk-toggleable__control:checked~label.sk-toggleable__label {background-color: #d4ebff;}#sk-container-id-1 div.sk-label input.sk-toggleable__control:checked~label.sk-toggleable__label {background-color: #d4ebff;}#sk-container-id-1 input.sk-hidden--visually {border: 0;clip: rect(1px 1px 1px 1px);clip: rect(1px, 1px, 1px, 1px);height: 1px;margin: -1px;overflow: hidden;padding: 0;position: absolute;width: 1px;}#sk-container-id-1 div.sk-estimator {font-family: monospace;background-color: #f0f8ff;border: 1px dotted black;border-radius: 0.25em;box-sizing: border-box;margin-bottom: 0.5em;}#sk-container-id-1 div.sk-estimator:hover {background-color: #d4ebff;}#sk-container-id-1 div.sk-parallel-item::after {content: \"\";width: 100%;border-bottom: 1px solid gray;flex-grow: 1;}#sk-container-id-1 div.sk-label:hover label.sk-toggleable__label {background-color: #d4ebff;}#sk-container-id-1 div.sk-serial::before {content: \"\";position: absolute;border-left: 1px solid gray;box-sizing: border-box;top: 0;bottom: 0;left: 50%;z-index: 0;}#sk-container-id-1 div.sk-serial {display: flex;flex-direction: column;align-items: center;background-color: white;padding-right: 0.2em;padding-left: 0.2em;position: relative;}#sk-container-id-1 div.sk-item {position: relative;z-index: 1;}#sk-container-id-1 div.sk-parallel {display: flex;align-items: stretch;justify-content: center;background-color: white;position: relative;}#sk-container-id-1 div.sk-item::before, #sk-container-id-1 div.sk-parallel-item::before {content: \"\";position: absolute;border-left: 1px solid gray;box-sizing: border-box;top: 0;bottom: 0;left: 50%;z-index: -1;}#sk-container-id-1 div.sk-parallel-item {display: flex;flex-direction: column;z-index: 1;position: relative;background-color: white;}#sk-container-id-1 div.sk-parallel-item:first-child::after {align-self: flex-end;width: 50%;}#sk-container-id-1 div.sk-parallel-item:last-child::after {align-self: flex-start;width: 50%;}#sk-container-id-1 div.sk-parallel-item:only-child::after {width: 0;}#sk-container-id-1 div.sk-dashed-wrapped {border: 1px dashed gray;margin: 0 0.4em 0.5em 0.4em;box-sizing: border-box;padding-bottom: 0.4em;background-color: white;}#sk-container-id-1 div.sk-label label {font-family: monospace;font-weight: bold;display: inline-block;line-height: 1.2em;}#sk-container-id-1 div.sk-label-container {text-align: center;}#sk-container-id-1 div.sk-container {/* jupyter's `normalize.less` sets `[hidden] { display: none; }` but bootstrap.min.css set `[hidden] { display: none !important; }` so we also need the `!important` here to be able to override the default hidden behavior on the sphinx rendered scikit-learn.org. See: https://github.com/scikit-learn/scikit-learn/issues/21755 */display: inline-block !important;position: relative;}#sk-container-id-1 div.sk-text-repr-fallback {display: none;}</style><div id=\"sk-container-id-1\" class=\"sk-top-container\"><div class=\"sk-text-repr-fallback\"><pre>LinearSVR()</pre><b>In a Jupyter environment, please rerun this cell to show the HTML representation or trust the notebook. <br />On GitHub, the HTML representation is unable to render, please try loading this page with nbviewer.org.</b></div><div class=\"sk-container\" hidden><div class=\"sk-item\"><div class=\"sk-estimator sk-toggleable\"><input class=\"sk-toggleable__control sk-hidden--visually\" id=\"sk-estimator-id-1\" type=\"checkbox\" checked><label for=\"sk-estimator-id-1\" class=\"sk-toggleable__label sk-toggleable__label-arrow\">LinearSVR</label><div class=\"sk-toggleable__content\"><pre>LinearSVR()</pre></div></div></div></div></div>"
      ],
      "text/plain": [
       "LinearSVR()"
      ]
     },
     "execution_count": 227,
     "metadata": {},
     "output_type": "execute_result"
    }
   ],
   "source": [
    "model = sklearn.svm.LinearSVR()\n",
    "model.fit(train[['features_1', 'features_2']], train['features_3'])"
   ]
  },
  {
   "cell_type": "code",
   "execution_count": 229,
   "metadata": {},
   "outputs": [],
   "source": [
    "pred = model.predict(test[['features_1', 'features_2']])\n",
    "truth = test['features_3']"
   ]
  },
  {
   "cell_type": "code",
   "execution_count": 230,
   "metadata": {},
   "outputs": [
    {
     "data": {
      "text/plain": [
       "array([0.58126522, 0.59874824, 0.55732225, ..., 0.60833366, 0.68269302,\n",
       "       0.6094845 ])"
      ]
     },
     "execution_count": 230,
     "metadata": {},
     "output_type": "execute_result"
    }
   ],
   "source": [
    "pred"
   ]
  },
  {
   "cell_type": "code",
   "execution_count": 233,
   "metadata": {},
   "outputs": [
    {
     "name": "stdout",
     "output_type": "stream",
     "text": [
      "0.03652316950947749\n",
      "0.6288615400232905\n"
     ]
    }
   ],
   "source": [
    "print(sklearn.metrics.mean_absolute_error(truth, pred))\n",
    "print(sklearn.metrics.r2_score(truth, pred))"
   ]
  },
  {
   "cell_type": "code",
   "execution_count": 235,
   "metadata": {},
   "outputs": [
    {
     "data": {
      "text/plain": [
       "class_        (True, divided_faces, divided_faces)\n",
       "features_1                                0.882485\n",
       "features_2                                0.788726\n",
       "features_3                                0.656492\n",
       "Name: 985143, dtype: object"
      ]
     },
     "execution_count": 235,
     "metadata": {},
     "output_type": "execute_result"
    }
   ],
   "source": [
    "train.iloc[0]"
   ]
  },
  {
   "cell_type": "code",
   "execution_count": 237,
   "metadata": {},
   "outputs": [
    {
     "data": {
      "text/plain": [
       "count    195.000000\n",
       "mean       0.659894\n",
       "std        0.002111\n",
       "min        0.654750\n",
       "25%        0.658622\n",
       "50%        0.659932\n",
       "75%        0.661439\n",
       "max        0.664410\n",
       "Name: features_3, dtype: float64"
      ]
     },
     "execution_count": 237,
     "metadata": {},
     "output_type": "execute_result"
    }
   ],
   "source": [
    "dff = train[(abs(train['features_1']-0.882)<1e-3) & (abs(train['features_2']-0.788)<1e-3)]\n",
    "dff['features_3'].describe()"
   ]
  },
  {
   "cell_type": "code",
   "execution_count": 292,
   "metadata": {},
   "outputs": [
    {
     "data": {
      "text/html": [
       "<style>#sk-container-id-9 {color: black;background-color: white;}#sk-container-id-9 pre{padding: 0;}#sk-container-id-9 div.sk-toggleable {background-color: white;}#sk-container-id-9 label.sk-toggleable__label {cursor: pointer;display: block;width: 100%;margin-bottom: 0;padding: 0.3em;box-sizing: border-box;text-align: center;}#sk-container-id-9 label.sk-toggleable__label-arrow:before {content: \"▸\";float: left;margin-right: 0.25em;color: #696969;}#sk-container-id-9 label.sk-toggleable__label-arrow:hover:before {color: black;}#sk-container-id-9 div.sk-estimator:hover label.sk-toggleable__label-arrow:before {color: black;}#sk-container-id-9 div.sk-toggleable__content {max-height: 0;max-width: 0;overflow: hidden;text-align: left;background-color: #f0f8ff;}#sk-container-id-9 div.sk-toggleable__content pre {margin: 0.2em;color: black;border-radius: 0.25em;background-color: #f0f8ff;}#sk-container-id-9 input.sk-toggleable__control:checked~div.sk-toggleable__content {max-height: 200px;max-width: 100%;overflow: auto;}#sk-container-id-9 input.sk-toggleable__control:checked~label.sk-toggleable__label-arrow:before {content: \"▾\";}#sk-container-id-9 div.sk-estimator input.sk-toggleable__control:checked~label.sk-toggleable__label {background-color: #d4ebff;}#sk-container-id-9 div.sk-label input.sk-toggleable__control:checked~label.sk-toggleable__label {background-color: #d4ebff;}#sk-container-id-9 input.sk-hidden--visually {border: 0;clip: rect(1px 1px 1px 1px);clip: rect(1px, 1px, 1px, 1px);height: 1px;margin: -1px;overflow: hidden;padding: 0;position: absolute;width: 1px;}#sk-container-id-9 div.sk-estimator {font-family: monospace;background-color: #f0f8ff;border: 1px dotted black;border-radius: 0.25em;box-sizing: border-box;margin-bottom: 0.5em;}#sk-container-id-9 div.sk-estimator:hover {background-color: #d4ebff;}#sk-container-id-9 div.sk-parallel-item::after {content: \"\";width: 100%;border-bottom: 1px solid gray;flex-grow: 1;}#sk-container-id-9 div.sk-label:hover label.sk-toggleable__label {background-color: #d4ebff;}#sk-container-id-9 div.sk-serial::before {content: \"\";position: absolute;border-left: 1px solid gray;box-sizing: border-box;top: 0;bottom: 0;left: 50%;z-index: 0;}#sk-container-id-9 div.sk-serial {display: flex;flex-direction: column;align-items: center;background-color: white;padding-right: 0.2em;padding-left: 0.2em;position: relative;}#sk-container-id-9 div.sk-item {position: relative;z-index: 1;}#sk-container-id-9 div.sk-parallel {display: flex;align-items: stretch;justify-content: center;background-color: white;position: relative;}#sk-container-id-9 div.sk-item::before, #sk-container-id-9 div.sk-parallel-item::before {content: \"\";position: absolute;border-left: 1px solid gray;box-sizing: border-box;top: 0;bottom: 0;left: 50%;z-index: -1;}#sk-container-id-9 div.sk-parallel-item {display: flex;flex-direction: column;z-index: 1;position: relative;background-color: white;}#sk-container-id-9 div.sk-parallel-item:first-child::after {align-self: flex-end;width: 50%;}#sk-container-id-9 div.sk-parallel-item:last-child::after {align-self: flex-start;width: 50%;}#sk-container-id-9 div.sk-parallel-item:only-child::after {width: 0;}#sk-container-id-9 div.sk-dashed-wrapped {border: 1px dashed gray;margin: 0 0.4em 0.5em 0.4em;box-sizing: border-box;padding-bottom: 0.4em;background-color: white;}#sk-container-id-9 div.sk-label label {font-family: monospace;font-weight: bold;display: inline-block;line-height: 1.2em;}#sk-container-id-9 div.sk-label-container {text-align: center;}#sk-container-id-9 div.sk-container {/* jupyter's `normalize.less` sets `[hidden] { display: none; }` but bootstrap.min.css set `[hidden] { display: none !important; }` so we also need the `!important` here to be able to override the default hidden behavior on the sphinx rendered scikit-learn.org. See: https://github.com/scikit-learn/scikit-learn/issues/21755 */display: inline-block !important;position: relative;}#sk-container-id-9 div.sk-text-repr-fallback {display: none;}</style><div id=\"sk-container-id-9\" class=\"sk-top-container\"><div class=\"sk-text-repr-fallback\"><pre>Pipeline(steps=[(&#x27;polynomial_features&#x27;,\n",
       "                 PolynomialFeatures(degree=4, include_bias=False)),\n",
       "                (&#x27;linear_regression&#x27;, LinearRegression())])</pre><b>In a Jupyter environment, please rerun this cell to show the HTML representation or trust the notebook. <br />On GitHub, the HTML representation is unable to render, please try loading this page with nbviewer.org.</b></div><div class=\"sk-container\" hidden><div class=\"sk-item sk-dashed-wrapped\"><div class=\"sk-label-container\"><div class=\"sk-label sk-toggleable\"><input class=\"sk-toggleable__control sk-hidden--visually\" id=\"sk-estimator-id-21\" type=\"checkbox\" ><label for=\"sk-estimator-id-21\" class=\"sk-toggleable__label sk-toggleable__label-arrow\">Pipeline</label><div class=\"sk-toggleable__content\"><pre>Pipeline(steps=[(&#x27;polynomial_features&#x27;,\n",
       "                 PolynomialFeatures(degree=4, include_bias=False)),\n",
       "                (&#x27;linear_regression&#x27;, LinearRegression())])</pre></div></div></div><div class=\"sk-serial\"><div class=\"sk-item\"><div class=\"sk-estimator sk-toggleable\"><input class=\"sk-toggleable__control sk-hidden--visually\" id=\"sk-estimator-id-22\" type=\"checkbox\" ><label for=\"sk-estimator-id-22\" class=\"sk-toggleable__label sk-toggleable__label-arrow\">PolynomialFeatures</label><div class=\"sk-toggleable__content\"><pre>PolynomialFeatures(degree=4, include_bias=False)</pre></div></div></div><div class=\"sk-item\"><div class=\"sk-estimator sk-toggleable\"><input class=\"sk-toggleable__control sk-hidden--visually\" id=\"sk-estimator-id-23\" type=\"checkbox\" ><label for=\"sk-estimator-id-23\" class=\"sk-toggleable__label sk-toggleable__label-arrow\">LinearRegression</label><div class=\"sk-toggleable__content\"><pre>LinearRegression()</pre></div></div></div></div></div></div></div>"
      ],
      "text/plain": [
       "Pipeline(steps=[('polynomial_features',\n",
       "                 PolynomialFeatures(degree=4, include_bias=False)),\n",
       "                ('linear_regression', LinearRegression())])"
      ]
     },
     "execution_count": 292,
     "metadata": {},
     "output_type": "execute_result"
    }
   ],
   "source": [
    "import sklearn.pipeline\n",
    "model2 = sklearn.pipeline.Pipeline([\n",
    "    ('polynomial_features', sklearn.preprocessing.PolynomialFeatures(degree=4, include_bias=False)),\n",
    "    ('linear_regression', sklearn.linear_model.LinearRegression()),\n",
    "])\n",
    "model2.fit(train[['features_1', 'features_2']], train['features_3'])"
   ]
  },
  {
   "cell_type": "code",
   "execution_count": 293,
   "metadata": {},
   "outputs": [],
   "source": [
    "pred2 = model2.predict(test[['features_1', 'features_2']])"
   ]
  },
  {
   "cell_type": "code",
   "execution_count": 294,
   "metadata": {},
   "outputs": [
    {
     "name": "stdout",
     "output_type": "stream",
     "text": [
      "0.005243568252888847\n",
      "0.9923780335212944\n"
     ]
    }
   ],
   "source": [
    "print(sklearn.metrics.mean_absolute_error(truth, pred2))\n",
    "print(sklearn.metrics.r2_score(truth, pred2))"
   ]
  },
  {
   "cell_type": "code",
   "execution_count": 295,
   "metadata": {},
   "outputs": [
    {
     "data": {
      "text/plain": [
       "<matplotlib.collections.PathCollection at 0x3865ab730>"
      ]
     },
     "execution_count": 295,
     "metadata": {},
     "output_type": "execute_result"
    },
    {
     "data": {
      "image/png": "[encoded data removed]",
      "text/plain": [
       "<Figure size 640x480 with 1 Axes>"
      ]
     },
     "metadata": {},
     "output_type": "display_data"
    }
   ],
   "source": [
    "import matplotlib.pyplot as plt\n",
    "fig, ax = plt.subplots()\n",
    "plot_df = pd.DataFrame([list(truth), list(pred2)]).T.sample(n=1000)\n",
    "ax.scatter(plot_df[0], plot_df[1]-plot_df[0], s=1)\n"
   ]
  },
  {
   "cell_type": "code",
   "execution_count": 296,
   "metadata": {},
   "outputs": [
    {
     "data": {
      "text/plain": [
       "{'fit_intercept': True,\n",
       " 'copy_X': True,\n",
       " 'n_jobs': None,\n",
       " 'positive': False,\n",
       " 'n_features_in_': 14,\n",
       " 'coef_': array([  82585.40972731,   40171.24532708, -102888.18002785,\n",
       "         -96101.3910804 ,  -26814.36077913,   57224.01849803,\n",
       "          77829.35994324,   40557.10173987,    9009.51471704,\n",
       "         -11995.76369037,  -21122.4868152 ,  -15952.88018778,\n",
       "          -6216.43961368,   -1324.35246268]),\n",
       " 'rank_': 14,\n",
       " 'singular_': array([3.01188107e+02, 7.60587650e+01, 2.21168511e+01, 3.31497891e+00,\n",
       "        9.77943906e-01, 3.88030402e-01, 1.54304846e-01, 2.93126726e-02,\n",
       "        1.18669037e-02, 4.67327464e-03, 1.42394277e-03, 6.24843079e-04,\n",
       "        9.73549956e-05, 1.15477382e-05]),\n",
       " 'intercept_': -25027.237208205002}"
      ]
     },
     "execution_count": 296,
     "metadata": {},
     "output_type": "execute_result"
    }
   ],
   "source": [
    "vars(model2.named_steps['linear_regression'])"
   ]
  },
  {
   "cell_type": "code",
   "execution_count": 291,
   "metadata": {},
   "outputs": [
    {
     "data": {
      "text/plain": [
       "341600    0.543858\n",
       "279997    0.651451\n",
       "974783    0.545151\n",
       "158096    0.589606\n",
       "824671    0.548499\n",
       "            ...   \n",
       "142495    0.620799\n",
       "308051    0.520999\n",
       "158756    0.563397\n",
       "923672    0.723262\n",
       "257368    0.674177\n",
       "Name: features_3, Length: 250000, dtype: float64"
      ]
     },
     "execution_count": 291,
     "metadata": {},
     "output_type": "execute_result"
    }
   ],
   "source": [
    "truth"
   ]
  },
  {
   "cell_type": "code",
   "execution_count": 255,
   "metadata": {},
   "outputs": [
    {
     "data": {
      "text/plain": [
       "array([0.54459914, 0.65396205, 0.53747805, ..., 0.55765672, 0.72108554,\n",
       "       0.67278507])"
      ]
     },
     "execution_count": 255,
     "metadata": {},
     "output_type": "execute_result"
    }
   ],
   "source": [
    "pred2"
   ]
  },
  {
   "cell_type": "code",
   "execution_count": 303,
   "metadata": {},
   "outputs": [],
   "source": [
    "termA = df_randpoints.filter(regex='features_').sum(axis=1)**2\n",
    "termB = df_randpoints.filter(regex='features_').applymap(lambda x: x**2).sum(axis=1)"
   ]
  },
  {
   "cell_type": "code",
   "execution_count": 311,
   "metadata": {},
   "outputs": [
    {
     "name": "stdout",
     "output_type": "stream",
     "text": [
      "(1000000, 2)\n",
      "[0.19423182 0.        ]\n"
     ]
    }
   ],
   "source": [
    "_fit = np.concatenate([x.values.reshape(-1, 1) for x in [termA, termB]], axis=1)\n",
    "print(_fit.shape)\n",
    "pca = sklearn.decomposition.PCA().fit(_fit)\n",
    "print(pca.explained_variance_.round(12))"
   ]
  },
  {
   "cell_type": "code",
   "execution_count": 316,
   "metadata": {},
   "outputs": [],
   "source": [
    "xi_ = pca.components_[-1]"
   ]
  },
  {
   "cell_type": "code",
   "execution_count": 319,
   "metadata": {},
   "outputs": [
    {
     "data": {
      "text/plain": [
       "(47.25661606178863, 42.74338393821137)"
      ]
     },
     "execution_count": 319,
     "metadata": {},
     "output_type": "execute_result"
    }
   ],
   "source": [
    "sinsq = (xi_[1] - xi_[0]) / (3* (xi_[1] + xi_[0]))\n",
    "sinsq\n",
    "angle = np.arcsin(np.sqrt(sinsq)) * 180/np.pi\n",
    "angle, 90-angle"
   ]
  },
  {
   "cell_type": "code",
   "execution_count": 322,
   "metadata": {},
   "outputs": [
    {
     "data": {
      "text/plain": [
       "array([[ 1.       ,  0.4472136,  0.4472136,  0.4472136,  0.4472136,\n",
       "         0.4472136, -0.4472136, -0.4472136, -0.4472136, -0.4472136,\n",
       "        -0.4472136, -1.       ],\n",
       "       [ 0.4472136,  1.       ,  0.4472136,  0.4472136, -0.4472136,\n",
       "        -0.4472136,  0.4472136,  0.4472136, -0.4472136, -0.4472136,\n",
       "        -1.       , -0.4472136],\n",
       "       [ 0.4472136,  0.4472136,  1.       , -0.4472136,  0.4472136,\n",
       "        -0.4472136,  0.4472136, -0.4472136,  0.4472136, -1.       ,\n",
       "        -0.4472136, -0.4472136],\n",
       "       [ 0.4472136,  0.4472136, -0.4472136,  1.       , -0.4472136,\n",
       "         0.4472136, -0.4472136,  0.4472136, -1.       ,  0.4472136,\n",
       "        -0.4472136, -0.4472136],\n",
       "       [ 0.4472136, -0.4472136,  0.4472136, -0.4472136,  1.       ,\n",
       "         0.4472136, -0.4472136, -1.       ,  0.4472136, -0.4472136,\n",
       "         0.4472136, -0.4472136],\n",
       "       [ 0.4472136, -0.4472136, -0.4472136,  0.4472136,  0.4472136,\n",
       "         1.       , -1.       , -0.4472136, -0.4472136,  0.4472136,\n",
       "         0.4472136, -0.4472136],\n",
       "       [-0.4472136,  0.4472136,  0.4472136, -0.4472136, -0.4472136,\n",
       "        -1.       ,  1.       ,  0.4472136,  0.4472136, -0.4472136,\n",
       "        -0.4472136,  0.4472136],\n",
       "       [-0.4472136,  0.4472136, -0.4472136,  0.4472136, -1.       ,\n",
       "        -0.4472136,  0.4472136,  1.       , -0.4472136,  0.4472136,\n",
       "        -0.4472136,  0.4472136],\n",
       "       [-0.4472136, -0.4472136,  0.4472136, -1.       ,  0.4472136,\n",
       "        -0.4472136,  0.4472136, -0.4472136,  1.       , -0.4472136,\n",
       "         0.4472136,  0.4472136],\n",
       "       [-0.4472136, -0.4472136, -1.       ,  0.4472136, -0.4472136,\n",
       "         0.4472136, -0.4472136,  0.4472136, -0.4472136,  1.       ,\n",
       "         0.4472136,  0.4472136],\n",
       "       [-0.4472136, -1.       , -0.4472136, -0.4472136,  0.4472136,\n",
       "         0.4472136, -0.4472136, -0.4472136,  0.4472136,  0.4472136,\n",
       "         1.       ,  0.4472136],\n",
       "       [-1.       , -0.4472136, -0.4472136, -0.4472136, -0.4472136,\n",
       "        -0.4472136,  0.4472136,  0.4472136,  0.4472136,  0.4472136,\n",
       "         0.4472136,  1.       ]])"
      ]
     },
     "execution_count": 322,
     "metadata": {},
     "output_type": "execute_result"
    }
   ],
   "source": [
    "lin_ = sklearn.metrics.pairwise.linear_kernel(reference_points[:12])\n",
    "lin_"
   ]
  },
  {
   "cell_type": "code",
   "execution_count": 328,
   "metadata": {},
   "outputs": [
    {
     "data": {
      "text/plain": [
       "52.62263185935029"
      ]
     },
     "execution_count": 328,
     "metadata": {},
     "output_type": "execute_result"
    }
   ],
   "source": [
    "c = np.sqrt((1-lin_[0,1])*(2/3))\n",
    "ang = np.arccos(c) * 180 / np.pi\n",
    "ang"
   ]
  },
  {
   "cell_type": "code",
   "execution_count": 333,
   "metadata": {},
   "outputs": [
    {
     "data": {
      "text/plain": [
       "0.09056621649977636"
      ]
     },
     "execution_count": 333,
     "metadata": {},
     "output_type": "execute_result"
    }
   ],
   "source": [
    "xi0 = 1 - 3*np.sin(np.arccos(c))**2\n",
    "xi1 = 1 + 3*np.sin(np.arccos(c))**2\n",
    "termA = df_randpoints.filter(regex='features_').sum(axis=1)**2\n",
    "termB = df_randpoints.filter(regex='features_').applymap(lambda x: x**2).sum(axis=1)\n",
    "term = xi0 * termA + xi1 * termB\n",
    "term.std()"
   ]
  },
  {
   "cell_type": "code",
   "execution_count": 332,
   "metadata": {},
   "outputs": [
    {
     "data": {
      "text/plain": [
       "7.444189801983409e-15"
      ]
     },
     "execution_count": 332,
     "metadata": {},
     "output_type": "execute_result"
    }
   ],
   "source": [
    "angle = np.arcsin(np.sqrt(sinsq))\n",
    "\n",
    "xi0 = 1 - 3*np.sin(angle)**2\n",
    "xi1 = 1 + 3*np.sin(angle)**2\n",
    "termA = df_randpoints.filter(regex='features_').sum(axis=1)**2\n",
    "termB = df_randpoints.filter(regex='features_').applymap(lambda x: x**2).sum(axis=1)\n",
    "term = xi0 * termA + xi1 * termB\n",
    "term.std()"
   ]
  },
  {
   "cell_type": "code",
   "execution_count": 354,
   "metadata": {},
   "outputs": [],
   "source": [
    "def func_optimize(b, c, params):\n",
    "    insqrt = np.sqrt(1 + params[4] * (b+c)**2 + params[5] * (b-c)**2)\n",
    "    return params[0] + params[1] * b + params[2] * c + params[3] * insqrt"
   ]
  },
  {
   "cell_type": "code",
   "execution_count": 355,
   "metadata": {},
   "outputs": [],
   "source": [
    "func_error = lambda p, a,b,c: sum([(func_optimize(y,x,p)-z)**2 for x,y,z in zip(a,b,c) ])"
   ]
  },
  {
   "cell_type": "code",
   "execution_count": 356,
   "metadata": {},
   "outputs": [
    {
     "data": {
      "text/plain": [
       "1060140.547093964"
      ]
     },
     "execution_count": 356,
     "metadata": {},
     "output_type": "execute_result"
    }
   ],
   "source": [
    "feat = df_randpoints[['features_1', 'features_2', 'features_3']].values\n",
    "a = lambda p: func_error(p, feat[:,0], feat[:,1], feat[:,2])\n",
    "a((0,1,1,0,0,0))"
   ]
  },
  {
   "cell_type": "code",
   "execution_count": 357,
   "metadata": {},
   "outputs": [
    {
     "name": "stdout",
     "output_type": "stream",
     "text": [
      "Optimization terminated successfully.\n",
      "         Current function value: 4254.448017\n",
      "         Iterations: 162\n",
      "         Function evaluations: 287\n"
     ]
    }
   ],
   "source": [
    "import scipy.optimize\n",
    "feat = df_randpoints[['features_1', 'features_2', 'features_3']].values\n",
    "opt = scipy.optimize.fmin(\n",
    "    lambda p: func_error(p, feat[:,0], feat[:,1], feat[:,2]),\n",
    "    x0=(0,1,1,0,0,0)\n",
    ")"
   ]
  },
  {
   "cell_type": "code",
   "execution_count": 360,
   "metadata": {},
   "outputs": [
    {
     "data": {
      "text/plain": [
       "array([ 2.20231975e-03,  6.30750912e-01,  1.65344973e-01,  1.29385860e-03,\n",
       "        2.72059227e-04, -2.07363168e-04])"
      ]
     },
     "execution_count": 360,
     "metadata": {},
     "output_type": "execute_result"
    }
   ],
   "source": [
    "opt"
   ]
  },
  {
   "cell_type": "code",
   "execution_count": 361,
   "metadata": {},
   "outputs": [],
   "source": [
    "termA = df_randpoints.filter(regex='features_').sum(axis=1)**2\n",
    "termB = df_randpoints.filter(regex='features_').applymap(lambda x: x**2).sum(axis=1)"
   ]
  },
  {
   "cell_type": "code",
   "execution_count": 363,
   "metadata": {},
   "outputs": [
    {
     "data": {
      "text/html": [
       "<div>\n",
       "<style scoped>\n",
       "    .dataframe tbody tr th:only-of-type {\n",
       "        vertical-align: middle;\n",
       "    }\n",
       "\n",
       "    .dataframe tbody tr th {\n",
       "        vertical-align: top;\n",
       "    }\n",
       "\n",
       "    .dataframe thead th {\n",
       "        text-align: right;\n",
       "    }\n",
       "</style>\n",
       "<table border=\"1\" class=\"dataframe\">\n",
       "  <thead>\n",
       "    <tr style=\"text-align: right;\">\n",
       "      <th></th>\n",
       "      <th>features_1</th>\n",
       "      <th>features_2</th>\n",
       "      <th>features_3</th>\n",
       "    </tr>\n",
       "  </thead>\n",
       "  <tbody>\n",
       "    <tr>\n",
       "      <th>0</th>\n",
       "      <td>0.910293</td>\n",
       "      <td>0.776352</td>\n",
       "      <td>0.547117</td>\n",
       "    </tr>\n",
       "    <tr>\n",
       "      <th>1</th>\n",
       "      <td>0.919154</td>\n",
       "      <td>0.763366</td>\n",
       "      <td>0.521762</td>\n",
       "    </tr>\n",
       "    <tr>\n",
       "      <th>2</th>\n",
       "      <td>0.958157</td>\n",
       "      <td>0.666295</td>\n",
       "      <td>0.592220</td>\n",
       "    </tr>\n",
       "    <tr>\n",
       "      <th>3</th>\n",
       "      <td>0.936559</td>\n",
       "      <td>0.729157</td>\n",
       "      <td>0.557159</td>\n",
       "    </tr>\n",
       "    <tr>\n",
       "      <th>4</th>\n",
       "      <td>0.890844</td>\n",
       "      <td>0.758323</td>\n",
       "      <td>0.688994</td>\n",
       "    </tr>\n",
       "    <tr>\n",
       "      <th>...</th>\n",
       "      <td>...</td>\n",
       "      <td>...</td>\n",
       "      <td>...</td>\n",
       "    </tr>\n",
       "    <tr>\n",
       "      <th>999995</th>\n",
       "      <td>0.892277</td>\n",
       "      <td>0.747608</td>\n",
       "      <td>0.700668</td>\n",
       "    </tr>\n",
       "    <tr>\n",
       "      <th>999996</th>\n",
       "      <td>0.855732</td>\n",
       "      <td>0.840309</td>\n",
       "      <td>0.589771</td>\n",
       "    </tr>\n",
       "    <tr>\n",
       "      <th>999997</th>\n",
       "      <td>0.991117</td>\n",
       "      <td>0.561450</td>\n",
       "      <td>0.492410</td>\n",
       "    </tr>\n",
       "    <tr>\n",
       "      <th>999998</th>\n",
       "      <td>0.877478</td>\n",
       "      <td>0.807615</td>\n",
       "      <td>0.623327</td>\n",
       "    </tr>\n",
       "    <tr>\n",
       "      <th>999999</th>\n",
       "      <td>0.868121</td>\n",
       "      <td>0.761871</td>\n",
       "      <td>0.731729</td>\n",
       "    </tr>\n",
       "  </tbody>\n",
       "</table>\n",
       "<p>1000000 rows × 3 columns</p>\n",
       "</div>"
      ],
      "text/plain": [
       "        features_1  features_2  features_3\n",
       "0         0.910293    0.776352    0.547117\n",
       "1         0.919154    0.763366    0.521762\n",
       "2         0.958157    0.666295    0.592220\n",
       "3         0.936559    0.729157    0.557159\n",
       "4         0.890844    0.758323    0.688994\n",
       "...            ...         ...         ...\n",
       "999995    0.892277    0.747608    0.700668\n",
       "999996    0.855732    0.840309    0.589771\n",
       "999997    0.991117    0.561450    0.492410\n",
       "999998    0.877478    0.807615    0.623327\n",
       "999999    0.868121    0.761871    0.731729\n",
       "\n",
       "[1000000 rows x 3 columns]"
      ]
     },
     "execution_count": 363,
     "metadata": {},
     "output_type": "execute_result"
    }
   ],
   "source": [
    "df_randpoints.filter(regex='features_')"
   ]
  },
  {
   "cell_type": "code",
   "execution_count": null,
   "metadata": {},
   "outputs": [],
   "source": []
  }
 ],
 "metadata": {
  "kernelspec": {
   "display_name": "DataScience",
   "language": "python",
   "name": "python3"
  },
  "language_info": {
   "codemirror_mode": {
    "name": "ipython",
    "version": 3
   },
   "file_extension": ".py",
   "mimetype": "text/x-python",
   "name": "python",
   "nbconvert_exporter": "python",
   "pygments_lexer": "ipython3",
   "version": "3.9.17"
  },
  "orig_nbformat": 4
 },
 "nbformat": 4,
 "nbformat_minor": 2
}
